{
 "cells": [
  {
   "cell_type": "markdown",
   "metadata": {
    "toc": true
   },
   "source": [
    "<h1>Содержание<span class=\"tocSkip\"></span></h1>\n",
    "<div class=\"toc\"><ul class=\"toc-item\"><li><span><a href=\"#Описание-технологического-процесса\" data-toc-modified-id=\"Описание-технологического-процесса-1\"><span class=\"toc-item-num\">1&nbsp;&nbsp;</span>Описание технологического процесса</a></span><ul class=\"toc-item\"><li><ul class=\"toc-item\"><li><span><a href=\"#Стадии:\" data-toc-modified-id=\"Стадии:-1.0.1\"><span class=\"toc-item-num\">1.0.1&nbsp;&nbsp;</span>Стадии:</a></span></li><li><span><a href=\"#Описание-данных\" data-toc-modified-id=\"Описание-данных-1.0.2\"><span class=\"toc-item-num\">1.0.2&nbsp;&nbsp;</span><br>Описание данных</a></span></li><li><span><a href=\"#Наименование-признаков\" data-toc-modified-id=\"Наименование-признаков-1.0.3\"><span class=\"toc-item-num\">1.0.3&nbsp;&nbsp;</span><br>Наименование признаков</a></span></li></ul></li></ul></li><li><span><a href=\"#Подготовка-данных\" data-toc-modified-id=\"Подготовка-данных-2\"><span class=\"toc-item-num\">2&nbsp;&nbsp;</span>Подготовка данных</a></span><ul class=\"toc-item\"><li><span><a href=\"#Загрузка-данных-и-библиотек\" data-toc-modified-id=\"Загрузка-данных-и-библиотек-2.1\"><span class=\"toc-item-num\">2.1&nbsp;&nbsp;</span>Загрузка данных и библиотек</a></span></li><li><span><a href=\"#Изучение-данных\" data-toc-modified-id=\"Изучение-данных-2.2\"><span class=\"toc-item-num\">2.2&nbsp;&nbsp;</span>Изучение данных</a></span></li><li><span><a href=\"#Проверка-эффективности-обогащения\" data-toc-modified-id=\"Проверка-эффективности-обогащения-2.3\"><span class=\"toc-item-num\">2.3&nbsp;&nbsp;</span>Проверка эффективности обогащения</a></span></li><li><span><a href=\"#Анализ-признаков,-недоступных-в-тестовой-выборке\" data-toc-modified-id=\"Анализ-признаков,-недоступных-в-тестовой-выборке-2.4\"><span class=\"toc-item-num\">2.4&nbsp;&nbsp;</span>Анализ признаков, недоступных в тестовой выборке</a></span></li><li><span><a href=\"#Предобработка-данных\" data-toc-modified-id=\"Предобработка-данных-2.5\"><span class=\"toc-item-num\">2.5&nbsp;&nbsp;</span>Предобработка данных</a></span></li></ul></li><li><span><a href=\"#Анализ-данных\" data-toc-modified-id=\"Анализ-данных-3\"><span class=\"toc-item-num\">3&nbsp;&nbsp;</span>Анализ данных</a></span><ul class=\"toc-item\"><li><span><a href=\"#Измнения-концентрации-металлов-(Au,-Ag,-Pb)-на-различных-этапах-очистки.\" data-toc-modified-id=\"Измнения-концентрации-металлов-(Au,-Ag,-Pb)-на-различных-этапах-очистки.-3.1\"><span class=\"toc-item-num\">3.1&nbsp;&nbsp;</span>Измнения концентрации металлов (Au, Ag, Pb) на различных этапах очистки.</a></span></li><li><span><a href=\"#Сравние-распределения-размеров-гранул-сырья-на-обучающей-и-тестовой-выборках.\" data-toc-modified-id=\"Сравние-распределения-размеров-гранул-сырья-на-обучающей-и-тестовой-выборках.-3.2\"><span class=\"toc-item-num\">3.2&nbsp;&nbsp;</span>Сравние распределения размеров гранул сырья на обучающей и тестовой выборках.</a></span></li><li><span><a href=\"#Исследование-суммарной-концентрации-всех-веществ-на-разных-стадиях:-в-сырье,-в-черновом-и-финальном-концентратах.\" data-toc-modified-id=\"Исследование-суммарной-концентрации-всех-веществ-на-разных-стадиях:-в-сырье,-в-черновом-и-финальном-концентратах.-3.3\"><span class=\"toc-item-num\">3.3&nbsp;&nbsp;</span>Исследование суммарной концентрации всех веществ на разных стадиях: в сырье, в черновом и финальном концентратах.</a></span></li></ul></li><li><span><a href=\"#Модель\" data-toc-modified-id=\"Модель-4\"><span class=\"toc-item-num\">4&nbsp;&nbsp;</span>Модель</a></span><ul class=\"toc-item\"><li><span><a href=\"#Функция-для-вычисления-итоговой-sMAPE\" data-toc-modified-id=\"Функция-для-вычисления-итоговой-sMAPE-4.1\"><span class=\"toc-item-num\">4.1&nbsp;&nbsp;</span>Функция для вычисления итоговой sMAPE</a></span></li><li><span><a href=\"#Модель-LinearRegression\" data-toc-modified-id=\"Модель-LinearRegression-4.2\"><span class=\"toc-item-num\">4.2&nbsp;&nbsp;</span>Модель LinearRegression</a></span></li><li><span><a href=\"#Модель-DecisionTreeRegressor\" data-toc-modified-id=\"Модель-DecisionTreeRegressor-4.3\"><span class=\"toc-item-num\">4.3&nbsp;&nbsp;</span>Модель DecisionTreeRegressor</a></span></li><li><span><a href=\"#Модель-RandomForestRegressor\" data-toc-modified-id=\"Модель-RandomForestRegressor-4.4\"><span class=\"toc-item-num\">4.4&nbsp;&nbsp;</span>Модель RandomForestRegressor</a></span></li></ul></li><li><span><a href=\"#Тестирование-и-проверка-на-адекатность.\" data-toc-modified-id=\"Тестирование-и-проверка-на-адекатность.-5\"><span class=\"toc-item-num\">5&nbsp;&nbsp;</span>Тестирование и проверка на адекатность.</a></span></li><li><span><a href=\"#Итоги\" data-toc-modified-id=\"Итоги-6\"><span class=\"toc-item-num\">6&nbsp;&nbsp;</span>Итоги</a></span></li><li><span><a href=\"#Чек-лист-готовности-проекта\" data-toc-modified-id=\"Чек-лист-готовности-проекта-7\"><span class=\"toc-item-num\">7&nbsp;&nbsp;</span>Чек-лист готовности проекта</a></span></li></ul></div>"
   ]
  },
  {
   "cell_type": "markdown",
   "metadata": {},
   "source": [
    "# Восстановление золота из руды"
   ]
  },
  {
   "cell_type": "markdown",
   "metadata": {},
   "source": [
    "Подготовьте прототип модели машинного обучения для «Цифры». Компания разрабатывает решения для эффективной работы промышленных предприятий.\n",
    "\n",
    "Модель должна предсказать коэффициент восстановления золота из золотосодержащей руды. Используйте данные с параметрами добычи и очистки. \n",
    "\n",
    "Модель поможет оптимизировать производство, чтобы не запускать предприятие с убыточными характеристиками.\n",
    "\n",
    "Вам нужно:\n",
    "\n",
    "1. Подготовить данные;\n",
    "2. Провести исследовательский анализ данных;\n",
    "3. Построить и обучить модель.\n",
    "\n",
    "Чтобы выполнить проект, обращайтесь к библиотекам *pandas*, *matplotlib* и *sklearn.* Вам поможет их документация."
   ]
  },
  {
   "cell_type": "markdown",
   "metadata": {},
   "source": [
    "## Описание технологического процесса"
   ]
  },
  {
   "cell_type": "markdown",
   "metadata": {},
   "source": [
    "#### Стадии:\n",
    "<br>1. Флотация\n",
    "<br>Во флотационную установку подаётся смесь золотосодержащей руды. После обогащения получается черновой концентрат и «отвальные хвосты», то есть остатки продукта с низкой концентрацией ценных металлов.\n",
    "На стабильность этого процесса влияет непостоянное и неоптимальное физико-химическое состояние флотационной пульпы (смеси твёрдых частиц и жидкости).\n",
    "<br>2. Очистка \n",
    "<br>Черновой концентрат проходит две очистки. На выходе получается финальный концентрат и новые отвальные хвосты.\n",
    "\n",
    "#### <br>Описание данных\n",
    "<br>Технологический процесс\n",
    "\n",
    "<br>- Rougher feed — исходное сырье\n",
    "<br>- Rougher additions (или reagent additions) — флотационные реагенты: Xanthate, Sulphate, Depressant\n",
    "<br>- Xanthate **— ксантогенат (промотер, или активатор флотации);\n",
    "<br>- Sulphate — сульфат (на данном производстве сульфид натрия);\n",
    "<br>- Depressant — депрессант (силикат натрия).\n",
    "<br>- Rougher process (англ. «грубый процесс») — флотация\n",
    "<br>- Rougher tails — отвальные хвосты\n",
    "<br>- Float banks — флотационная установка\n",
    "<br>- Cleaner process — очистка\n",
    "<br>- Rougher Au — черновой концентрат золота\n",
    "<br>- Final Au — финальный концентрат золота\n",
    "\n",
    "<br>Параметры этапов\n",
    "\n",
    "<br>- air amount — объём воздуха\n",
    "<br>- fluid levels — уровень жидкости\n",
    "<br>- feed size — размер гранул сырья\n",
    "<br>- feed rate — скорость подачи\n",
    "\n",
    "#### <br>Наименование признаков\n",
    "<br>Наименование признаков должно быть такое:\n",
    "\n",
    "<br>[этап].[тип_параметра].[название_параметра]\n",
    "<br>Пример: rougher.input.feed_ag\n",
    "<br>Возможные значения для блока [этап]:\n",
    "<br>- rougher — флотация\n",
    "<br>- primary_cleaner — первичная очистка\n",
    "<br>- secondary_cleaner — вторичная очистка\n",
    "<br>- final — финальные характеристики\n",
    "\n",
    "<br>Возможные значения для блока [тип_параметра]:\n",
    "<br>- input — параметры сырья\n",
    "<br>- output — параметры продукта\n",
    "<br>- state — параметры, характеризующие текущее состояние этапа\n",
    "<br>- calculation — расчётные характеристики"
   ]
  },
  {
   "cell_type": "markdown",
   "metadata": {},
   "source": [
    "## Подготовка данных"
   ]
  },
  {
   "cell_type": "markdown",
   "metadata": {},
   "source": [
    "### Загрузка данных и библиотек"
   ]
  },
  {
   "cell_type": "code",
   "execution_count": 33,
   "metadata": {},
   "outputs": [],
   "source": [
    "import pandas as pd\n",
    "\n",
    "import matplotlib.pyplot as plt\n",
    "\n",
    "import numpy as np\n",
    "\n",
    "from sklearn.metrics import mean_absolute_error, make_scorer\n",
    "from sklearn.tree import DecisionTreeRegressor\n",
    "from sklearn.ensemble import RandomForestRegressor\n",
    "from sklearn.linear_model import LinearRegression\n",
    "from sklearn.model_selection import cross_val_score\n",
    "from sklearn.dummy import DummyRegressor"
   ]
  },
  {
   "cell_type": "code",
   "execution_count": 2,
   "metadata": {},
   "outputs": [],
   "source": [
    "\n",
    "gold_recovery_train = pd.read_csv('gold_recovery_train_new.csv')\n",
    "gold_recovery_test = pd.read_csv('gold_recovery_test_new.csv')\n",
    "gold_recovery_full = pd.read_csv('gold_recovery_full_new.csv')"
   ]
  },
  {
   "cell_type": "markdown",
   "metadata": {},
   "source": [
    "### Изучение данных"
   ]
  },
  {
   "cell_type": "code",
   "execution_count": 3,
   "metadata": {
    "collapsed": true
   },
   "outputs": [
    {
     "name": "stdout",
     "output_type": "stream",
     "text": [
      "<class 'pandas.core.frame.DataFrame'>\n",
      "RangeIndex: 14149 entries, 0 to 14148\n",
      "Data columns (total 87 columns):\n",
      " #   Column                                              Non-Null Count  Dtype  \n",
      "---  ------                                              --------------  -----  \n",
      " 0   date                                                14149 non-null  object \n",
      " 1   final.output.concentrate_ag                         14148 non-null  float64\n",
      " 2   final.output.concentrate_pb                         14148 non-null  float64\n",
      " 3   final.output.concentrate_sol                        13938 non-null  float64\n",
      " 4   final.output.concentrate_au                         14149 non-null  float64\n",
      " 5   final.output.recovery                               14149 non-null  float64\n",
      " 6   final.output.tail_ag                                14149 non-null  float64\n",
      " 7   final.output.tail_pb                                14049 non-null  float64\n",
      " 8   final.output.tail_sol                               14144 non-null  float64\n",
      " 9   final.output.tail_au                                14149 non-null  float64\n",
      " 10  primary_cleaner.input.sulfate                       14129 non-null  float64\n",
      " 11  primary_cleaner.input.depressant                    14117 non-null  float64\n",
      " 12  primary_cleaner.input.feed_size                     14149 non-null  float64\n",
      " 13  primary_cleaner.input.xanthate                      14049 non-null  float64\n",
      " 14  primary_cleaner.output.concentrate_ag               14149 non-null  float64\n",
      " 15  primary_cleaner.output.concentrate_pb               14063 non-null  float64\n",
      " 16  primary_cleaner.output.concentrate_sol              13863 non-null  float64\n",
      " 17  primary_cleaner.output.concentrate_au               14149 non-null  float64\n",
      " 18  primary_cleaner.output.tail_ag                      14148 non-null  float64\n",
      " 19  primary_cleaner.output.tail_pb                      14134 non-null  float64\n",
      " 20  primary_cleaner.output.tail_sol                     14103 non-null  float64\n",
      " 21  primary_cleaner.output.tail_au                      14149 non-null  float64\n",
      " 22  primary_cleaner.state.floatbank8_a_air              14145 non-null  float64\n",
      " 23  primary_cleaner.state.floatbank8_a_level            14148 non-null  float64\n",
      " 24  primary_cleaner.state.floatbank8_b_air              14145 non-null  float64\n",
      " 25  primary_cleaner.state.floatbank8_b_level            14148 non-null  float64\n",
      " 26  primary_cleaner.state.floatbank8_c_air              14147 non-null  float64\n",
      " 27  primary_cleaner.state.floatbank8_c_level            14148 non-null  float64\n",
      " 28  primary_cleaner.state.floatbank8_d_air              14146 non-null  float64\n",
      " 29  primary_cleaner.state.floatbank8_d_level            14148 non-null  float64\n",
      " 30  rougher.calculation.sulfate_to_au_concentrate       14148 non-null  float64\n",
      " 31  rougher.calculation.floatbank10_sulfate_to_au_feed  14148 non-null  float64\n",
      " 32  rougher.calculation.floatbank11_sulfate_to_au_feed  14148 non-null  float64\n",
      " 33  rougher.calculation.au_pb_ratio                     14149 non-null  float64\n",
      " 34  rougher.input.feed_ag                               14149 non-null  float64\n",
      " 35  rougher.input.feed_pb                               14049 non-null  float64\n",
      " 36  rougher.input.feed_rate                             14141 non-null  float64\n",
      " 37  rougher.input.feed_size                             14005 non-null  float64\n",
      " 38  rougher.input.feed_sol                              14071 non-null  float64\n",
      " 39  rougher.input.feed_au                               14149 non-null  float64\n",
      " 40  rougher.input.floatbank10_sulfate                   14120 non-null  float64\n",
      " 41  rougher.input.floatbank10_xanthate                  14141 non-null  float64\n",
      " 42  rougher.input.floatbank11_sulfate                   14113 non-null  float64\n",
      " 43  rougher.input.floatbank11_xanthate                  13721 non-null  float64\n",
      " 44  rougher.output.concentrate_ag                       14149 non-null  float64\n",
      " 45  rougher.output.concentrate_pb                       14149 non-null  float64\n",
      " 46  rougher.output.concentrate_sol                      14127 non-null  float64\n",
      " 47  rougher.output.concentrate_au                       14149 non-null  float64\n",
      " 48  rougher.output.recovery                             14149 non-null  float64\n",
      " 49  rougher.output.tail_ag                              14148 non-null  float64\n",
      " 50  rougher.output.tail_pb                              14149 non-null  float64\n",
      " 51  rougher.output.tail_sol                             14149 non-null  float64\n",
      " 52  rougher.output.tail_au                              14149 non-null  float64\n",
      " 53  rougher.state.floatbank10_a_air                     14148 non-null  float64\n",
      " 54  rougher.state.floatbank10_a_level                   14148 non-null  float64\n",
      " 55  rougher.state.floatbank10_b_air                     14148 non-null  float64\n",
      " 56  rougher.state.floatbank10_b_level                   14148 non-null  float64\n",
      " 57  rougher.state.floatbank10_c_air                     14148 non-null  float64\n",
      " 58  rougher.state.floatbank10_c_level                   14148 non-null  float64\n",
      " 59  rougher.state.floatbank10_d_air                     14149 non-null  float64\n",
      " 60  rougher.state.floatbank10_d_level                   14149 non-null  float64\n",
      " 61  rougher.state.floatbank10_e_air                     13713 non-null  float64\n",
      " 62  rougher.state.floatbank10_e_level                   14149 non-null  float64\n",
      " 63  rougher.state.floatbank10_f_air                     14149 non-null  float64\n",
      " 64  rougher.state.floatbank10_f_level                   14149 non-null  float64\n",
      " 65  secondary_cleaner.output.tail_ag                    14147 non-null  float64\n",
      " 66  secondary_cleaner.output.tail_pb                    14139 non-null  float64\n",
      " 67  secondary_cleaner.output.tail_sol                   12544 non-null  float64\n",
      " 68  secondary_cleaner.output.tail_au                    14149 non-null  float64\n",
      " 69  secondary_cleaner.state.floatbank2_a_air            13932 non-null  float64\n",
      " 70  secondary_cleaner.state.floatbank2_a_level          14148 non-null  float64\n",
      " 71  secondary_cleaner.state.floatbank2_b_air            14128 non-null  float64\n",
      " 72  secondary_cleaner.state.floatbank2_b_level          14148 non-null  float64\n",
      " 73  secondary_cleaner.state.floatbank3_a_air            14145 non-null  float64\n",
      " 74  secondary_cleaner.state.floatbank3_a_level          14148 non-null  float64\n",
      " 75  secondary_cleaner.state.floatbank3_b_air            14148 non-null  float64\n",
      " 76  secondary_cleaner.state.floatbank3_b_level          14148 non-null  float64\n",
      " 77  secondary_cleaner.state.floatbank4_a_air            14143 non-null  float64\n",
      " 78  secondary_cleaner.state.floatbank4_a_level          14148 non-null  float64\n",
      " 79  secondary_cleaner.state.floatbank4_b_air            14148 non-null  float64\n",
      " 80  secondary_cleaner.state.floatbank4_b_level          14148 non-null  float64\n",
      " 81  secondary_cleaner.state.floatbank5_a_air            14148 non-null  float64\n",
      " 82  secondary_cleaner.state.floatbank5_a_level          14148 non-null  float64\n",
      " 83  secondary_cleaner.state.floatbank5_b_air            14148 non-null  float64\n",
      " 84  secondary_cleaner.state.floatbank5_b_level          14148 non-null  float64\n",
      " 85  secondary_cleaner.state.floatbank6_a_air            14147 non-null  float64\n",
      " 86  secondary_cleaner.state.floatbank6_a_level          14148 non-null  float64\n",
      "dtypes: float64(86), object(1)\n",
      "memory usage: 9.4+ MB\n"
     ]
    },
    {
     "data": {
      "text/html": [
       "<div>\n",
       "<style scoped>\n",
       "    .dataframe tbody tr th:only-of-type {\n",
       "        vertical-align: middle;\n",
       "    }\n",
       "\n",
       "    .dataframe tbody tr th {\n",
       "        vertical-align: top;\n",
       "    }\n",
       "\n",
       "    .dataframe thead th {\n",
       "        text-align: right;\n",
       "    }\n",
       "</style>\n",
       "<table border=\"1\" class=\"dataframe\">\n",
       "  <thead>\n",
       "    <tr style=\"text-align: right;\">\n",
       "      <th></th>\n",
       "      <th>date</th>\n",
       "      <th>final.output.concentrate_ag</th>\n",
       "      <th>final.output.concentrate_pb</th>\n",
       "      <th>final.output.concentrate_sol</th>\n",
       "      <th>final.output.concentrate_au</th>\n",
       "      <th>final.output.recovery</th>\n",
       "      <th>final.output.tail_ag</th>\n",
       "      <th>final.output.tail_pb</th>\n",
       "      <th>final.output.tail_sol</th>\n",
       "      <th>final.output.tail_au</th>\n",
       "      <th>...</th>\n",
       "      <th>secondary_cleaner.state.floatbank4_a_air</th>\n",
       "      <th>secondary_cleaner.state.floatbank4_a_level</th>\n",
       "      <th>secondary_cleaner.state.floatbank4_b_air</th>\n",
       "      <th>secondary_cleaner.state.floatbank4_b_level</th>\n",
       "      <th>secondary_cleaner.state.floatbank5_a_air</th>\n",
       "      <th>secondary_cleaner.state.floatbank5_a_level</th>\n",
       "      <th>secondary_cleaner.state.floatbank5_b_air</th>\n",
       "      <th>secondary_cleaner.state.floatbank5_b_level</th>\n",
       "      <th>secondary_cleaner.state.floatbank6_a_air</th>\n",
       "      <th>secondary_cleaner.state.floatbank6_a_level</th>\n",
       "    </tr>\n",
       "  </thead>\n",
       "  <tbody>\n",
       "    <tr>\n",
       "      <th>0</th>\n",
       "      <td>2016-01-15 00:00:00</td>\n",
       "      <td>6.055403</td>\n",
       "      <td>9.889648</td>\n",
       "      <td>5.507324</td>\n",
       "      <td>42.192020</td>\n",
       "      <td>70.541216</td>\n",
       "      <td>10.411962</td>\n",
       "      <td>0.895447</td>\n",
       "      <td>16.904297</td>\n",
       "      <td>2.143149</td>\n",
       "      <td>...</td>\n",
       "      <td>14.016835</td>\n",
       "      <td>-502.488007</td>\n",
       "      <td>12.099931</td>\n",
       "      <td>-504.715942</td>\n",
       "      <td>9.925633</td>\n",
       "      <td>-498.310211</td>\n",
       "      <td>8.079666</td>\n",
       "      <td>-500.470978</td>\n",
       "      <td>14.151341</td>\n",
       "      <td>-605.841980</td>\n",
       "    </tr>\n",
       "    <tr>\n",
       "      <th>1</th>\n",
       "      <td>2016-01-15 01:00:00</td>\n",
       "      <td>6.029369</td>\n",
       "      <td>9.968944</td>\n",
       "      <td>5.257781</td>\n",
       "      <td>42.701629</td>\n",
       "      <td>69.266198</td>\n",
       "      <td>10.462676</td>\n",
       "      <td>0.927452</td>\n",
       "      <td>16.634514</td>\n",
       "      <td>2.224930</td>\n",
       "      <td>...</td>\n",
       "      <td>13.992281</td>\n",
       "      <td>-505.503262</td>\n",
       "      <td>11.950531</td>\n",
       "      <td>-501.331529</td>\n",
       "      <td>10.039245</td>\n",
       "      <td>-500.169983</td>\n",
       "      <td>7.984757</td>\n",
       "      <td>-500.582168</td>\n",
       "      <td>13.998353</td>\n",
       "      <td>-599.787184</td>\n",
       "    </tr>\n",
       "    <tr>\n",
       "      <th>2</th>\n",
       "      <td>2016-01-15 02:00:00</td>\n",
       "      <td>6.055926</td>\n",
       "      <td>10.213995</td>\n",
       "      <td>5.383759</td>\n",
       "      <td>42.657501</td>\n",
       "      <td>68.116445</td>\n",
       "      <td>10.507046</td>\n",
       "      <td>0.953716</td>\n",
       "      <td>16.208849</td>\n",
       "      <td>2.257889</td>\n",
       "      <td>...</td>\n",
       "      <td>14.015015</td>\n",
       "      <td>-502.520901</td>\n",
       "      <td>11.912783</td>\n",
       "      <td>-501.133383</td>\n",
       "      <td>10.070913</td>\n",
       "      <td>-500.129135</td>\n",
       "      <td>8.013877</td>\n",
       "      <td>-500.517572</td>\n",
       "      <td>14.028663</td>\n",
       "      <td>-601.427363</td>\n",
       "    </tr>\n",
       "    <tr>\n",
       "      <th>3</th>\n",
       "      <td>2016-01-15 03:00:00</td>\n",
       "      <td>6.047977</td>\n",
       "      <td>9.977019</td>\n",
       "      <td>4.858634</td>\n",
       "      <td>42.689819</td>\n",
       "      <td>68.347543</td>\n",
       "      <td>10.422762</td>\n",
       "      <td>0.883763</td>\n",
       "      <td>16.532835</td>\n",
       "      <td>2.146849</td>\n",
       "      <td>...</td>\n",
       "      <td>14.036510</td>\n",
       "      <td>-500.857308</td>\n",
       "      <td>11.999550</td>\n",
       "      <td>-501.193686</td>\n",
       "      <td>9.970366</td>\n",
       "      <td>-499.201640</td>\n",
       "      <td>7.977324</td>\n",
       "      <td>-500.255908</td>\n",
       "      <td>14.005551</td>\n",
       "      <td>-599.996129</td>\n",
       "    </tr>\n",
       "    <tr>\n",
       "      <th>4</th>\n",
       "      <td>2016-01-15 04:00:00</td>\n",
       "      <td>6.148599</td>\n",
       "      <td>10.142511</td>\n",
       "      <td>4.939416</td>\n",
       "      <td>42.774141</td>\n",
       "      <td>66.927016</td>\n",
       "      <td>10.360302</td>\n",
       "      <td>0.792826</td>\n",
       "      <td>16.525686</td>\n",
       "      <td>2.055292</td>\n",
       "      <td>...</td>\n",
       "      <td>14.027298</td>\n",
       "      <td>-499.838632</td>\n",
       "      <td>11.953070</td>\n",
       "      <td>-501.053894</td>\n",
       "      <td>9.925709</td>\n",
       "      <td>-501.686727</td>\n",
       "      <td>7.894242</td>\n",
       "      <td>-500.356035</td>\n",
       "      <td>13.996647</td>\n",
       "      <td>-601.496691</td>\n",
       "    </tr>\n",
       "  </tbody>\n",
       "</table>\n",
       "<p>5 rows × 87 columns</p>\n",
       "</div>"
      ],
      "text/plain": [
       "                  date  final.output.concentrate_ag  \\\n",
       "0  2016-01-15 00:00:00                     6.055403   \n",
       "1  2016-01-15 01:00:00                     6.029369   \n",
       "2  2016-01-15 02:00:00                     6.055926   \n",
       "3  2016-01-15 03:00:00                     6.047977   \n",
       "4  2016-01-15 04:00:00                     6.148599   \n",
       "\n",
       "   final.output.concentrate_pb  final.output.concentrate_sol  \\\n",
       "0                     9.889648                      5.507324   \n",
       "1                     9.968944                      5.257781   \n",
       "2                    10.213995                      5.383759   \n",
       "3                     9.977019                      4.858634   \n",
       "4                    10.142511                      4.939416   \n",
       "\n",
       "   final.output.concentrate_au  final.output.recovery  final.output.tail_ag  \\\n",
       "0                    42.192020              70.541216             10.411962   \n",
       "1                    42.701629              69.266198             10.462676   \n",
       "2                    42.657501              68.116445             10.507046   \n",
       "3                    42.689819              68.347543             10.422762   \n",
       "4                    42.774141              66.927016             10.360302   \n",
       "\n",
       "   final.output.tail_pb  final.output.tail_sol  final.output.tail_au  ...  \\\n",
       "0              0.895447              16.904297              2.143149  ...   \n",
       "1              0.927452              16.634514              2.224930  ...   \n",
       "2              0.953716              16.208849              2.257889  ...   \n",
       "3              0.883763              16.532835              2.146849  ...   \n",
       "4              0.792826              16.525686              2.055292  ...   \n",
       "\n",
       "   secondary_cleaner.state.floatbank4_a_air  \\\n",
       "0                                 14.016835   \n",
       "1                                 13.992281   \n",
       "2                                 14.015015   \n",
       "3                                 14.036510   \n",
       "4                                 14.027298   \n",
       "\n",
       "   secondary_cleaner.state.floatbank4_a_level  \\\n",
       "0                                 -502.488007   \n",
       "1                                 -505.503262   \n",
       "2                                 -502.520901   \n",
       "3                                 -500.857308   \n",
       "4                                 -499.838632   \n",
       "\n",
       "   secondary_cleaner.state.floatbank4_b_air  \\\n",
       "0                                 12.099931   \n",
       "1                                 11.950531   \n",
       "2                                 11.912783   \n",
       "3                                 11.999550   \n",
       "4                                 11.953070   \n",
       "\n",
       "   secondary_cleaner.state.floatbank4_b_level  \\\n",
       "0                                 -504.715942   \n",
       "1                                 -501.331529   \n",
       "2                                 -501.133383   \n",
       "3                                 -501.193686   \n",
       "4                                 -501.053894   \n",
       "\n",
       "   secondary_cleaner.state.floatbank5_a_air  \\\n",
       "0                                  9.925633   \n",
       "1                                 10.039245   \n",
       "2                                 10.070913   \n",
       "3                                  9.970366   \n",
       "4                                  9.925709   \n",
       "\n",
       "   secondary_cleaner.state.floatbank5_a_level  \\\n",
       "0                                 -498.310211   \n",
       "1                                 -500.169983   \n",
       "2                                 -500.129135   \n",
       "3                                 -499.201640   \n",
       "4                                 -501.686727   \n",
       "\n",
       "   secondary_cleaner.state.floatbank5_b_air  \\\n",
       "0                                  8.079666   \n",
       "1                                  7.984757   \n",
       "2                                  8.013877   \n",
       "3                                  7.977324   \n",
       "4                                  7.894242   \n",
       "\n",
       "   secondary_cleaner.state.floatbank5_b_level  \\\n",
       "0                                 -500.470978   \n",
       "1                                 -500.582168   \n",
       "2                                 -500.517572   \n",
       "3                                 -500.255908   \n",
       "4                                 -500.356035   \n",
       "\n",
       "   secondary_cleaner.state.floatbank6_a_air  \\\n",
       "0                                 14.151341   \n",
       "1                                 13.998353   \n",
       "2                                 14.028663   \n",
       "3                                 14.005551   \n",
       "4                                 13.996647   \n",
       "\n",
       "   secondary_cleaner.state.floatbank6_a_level  \n",
       "0                                 -605.841980  \n",
       "1                                 -599.787184  \n",
       "2                                 -601.427363  \n",
       "3                                 -599.996129  \n",
       "4                                 -601.496691  \n",
       "\n",
       "[5 rows x 87 columns]"
      ]
     },
     "execution_count": 3,
     "metadata": {},
     "output_type": "execute_result"
    }
   ],
   "source": [
    "gold_recovery_train.info()\n",
    "gold_recovery_train.head()"
   ]
  },
  {
   "cell_type": "code",
   "execution_count": 4,
   "metadata": {
    "collapsed": true
   },
   "outputs": [
    {
     "name": "stdout",
     "output_type": "stream",
     "text": [
      "<class 'pandas.core.frame.DataFrame'>\n",
      "RangeIndex: 5290 entries, 0 to 5289\n",
      "Data columns (total 53 columns):\n",
      " #   Column                                      Non-Null Count  Dtype  \n",
      "---  ------                                      --------------  -----  \n",
      " 0   date                                        5290 non-null   object \n",
      " 1   primary_cleaner.input.sulfate               5286 non-null   float64\n",
      " 2   primary_cleaner.input.depressant            5285 non-null   float64\n",
      " 3   primary_cleaner.input.feed_size             5290 non-null   float64\n",
      " 4   primary_cleaner.input.xanthate              5286 non-null   float64\n",
      " 5   primary_cleaner.state.floatbank8_a_air      5290 non-null   float64\n",
      " 6   primary_cleaner.state.floatbank8_a_level    5290 non-null   float64\n",
      " 7   primary_cleaner.state.floatbank8_b_air      5290 non-null   float64\n",
      " 8   primary_cleaner.state.floatbank8_b_level    5290 non-null   float64\n",
      " 9   primary_cleaner.state.floatbank8_c_air      5290 non-null   float64\n",
      " 10  primary_cleaner.state.floatbank8_c_level    5290 non-null   float64\n",
      " 11  primary_cleaner.state.floatbank8_d_air      5290 non-null   float64\n",
      " 12  primary_cleaner.state.floatbank8_d_level    5290 non-null   float64\n",
      " 13  rougher.input.feed_ag                       5290 non-null   float64\n",
      " 14  rougher.input.feed_pb                       5290 non-null   float64\n",
      " 15  rougher.input.feed_rate                     5287 non-null   float64\n",
      " 16  rougher.input.feed_size                     5289 non-null   float64\n",
      " 17  rougher.input.feed_sol                      5269 non-null   float64\n",
      " 18  rougher.input.feed_au                       5290 non-null   float64\n",
      " 19  rougher.input.floatbank10_sulfate           5285 non-null   float64\n",
      " 20  rougher.input.floatbank10_xanthate          5290 non-null   float64\n",
      " 21  rougher.input.floatbank11_sulfate           5282 non-null   float64\n",
      " 22  rougher.input.floatbank11_xanthate          5265 non-null   float64\n",
      " 23  rougher.state.floatbank10_a_air             5290 non-null   float64\n",
      " 24  rougher.state.floatbank10_a_level           5290 non-null   float64\n",
      " 25  rougher.state.floatbank10_b_air             5290 non-null   float64\n",
      " 26  rougher.state.floatbank10_b_level           5290 non-null   float64\n",
      " 27  rougher.state.floatbank10_c_air             5290 non-null   float64\n",
      " 28  rougher.state.floatbank10_c_level           5290 non-null   float64\n",
      " 29  rougher.state.floatbank10_d_air             5290 non-null   float64\n",
      " 30  rougher.state.floatbank10_d_level           5290 non-null   float64\n",
      " 31  rougher.state.floatbank10_e_air             5290 non-null   float64\n",
      " 32  rougher.state.floatbank10_e_level           5290 non-null   float64\n",
      " 33  rougher.state.floatbank10_f_air             5290 non-null   float64\n",
      " 34  rougher.state.floatbank10_f_level           5290 non-null   float64\n",
      " 35  secondary_cleaner.state.floatbank2_a_air    5287 non-null   float64\n",
      " 36  secondary_cleaner.state.floatbank2_a_level  5290 non-null   float64\n",
      " 37  secondary_cleaner.state.floatbank2_b_air    5288 non-null   float64\n",
      " 38  secondary_cleaner.state.floatbank2_b_level  5290 non-null   float64\n",
      " 39  secondary_cleaner.state.floatbank3_a_air    5281 non-null   float64\n",
      " 40  secondary_cleaner.state.floatbank3_a_level  5290 non-null   float64\n",
      " 41  secondary_cleaner.state.floatbank3_b_air    5290 non-null   float64\n",
      " 42  secondary_cleaner.state.floatbank3_b_level  5290 non-null   float64\n",
      " 43  secondary_cleaner.state.floatbank4_a_air    5290 non-null   float64\n",
      " 44  secondary_cleaner.state.floatbank4_a_level  5290 non-null   float64\n",
      " 45  secondary_cleaner.state.floatbank4_b_air    5290 non-null   float64\n",
      " 46  secondary_cleaner.state.floatbank4_b_level  5290 non-null   float64\n",
      " 47  secondary_cleaner.state.floatbank5_a_air    5290 non-null   float64\n",
      " 48  secondary_cleaner.state.floatbank5_a_level  5290 non-null   float64\n",
      " 49  secondary_cleaner.state.floatbank5_b_air    5290 non-null   float64\n",
      " 50  secondary_cleaner.state.floatbank5_b_level  5290 non-null   float64\n",
      " 51  secondary_cleaner.state.floatbank6_a_air    5290 non-null   float64\n",
      " 52  secondary_cleaner.state.floatbank6_a_level  5290 non-null   float64\n",
      "dtypes: float64(52), object(1)\n",
      "memory usage: 2.1+ MB\n"
     ]
    },
    {
     "data": {
      "text/html": [
       "<div>\n",
       "<style scoped>\n",
       "    .dataframe tbody tr th:only-of-type {\n",
       "        vertical-align: middle;\n",
       "    }\n",
       "\n",
       "    .dataframe tbody tr th {\n",
       "        vertical-align: top;\n",
       "    }\n",
       "\n",
       "    .dataframe thead th {\n",
       "        text-align: right;\n",
       "    }\n",
       "</style>\n",
       "<table border=\"1\" class=\"dataframe\">\n",
       "  <thead>\n",
       "    <tr style=\"text-align: right;\">\n",
       "      <th></th>\n",
       "      <th>date</th>\n",
       "      <th>primary_cleaner.input.sulfate</th>\n",
       "      <th>primary_cleaner.input.depressant</th>\n",
       "      <th>primary_cleaner.input.feed_size</th>\n",
       "      <th>primary_cleaner.input.xanthate</th>\n",
       "      <th>primary_cleaner.state.floatbank8_a_air</th>\n",
       "      <th>primary_cleaner.state.floatbank8_a_level</th>\n",
       "      <th>primary_cleaner.state.floatbank8_b_air</th>\n",
       "      <th>primary_cleaner.state.floatbank8_b_level</th>\n",
       "      <th>primary_cleaner.state.floatbank8_c_air</th>\n",
       "      <th>...</th>\n",
       "      <th>secondary_cleaner.state.floatbank4_a_air</th>\n",
       "      <th>secondary_cleaner.state.floatbank4_a_level</th>\n",
       "      <th>secondary_cleaner.state.floatbank4_b_air</th>\n",
       "      <th>secondary_cleaner.state.floatbank4_b_level</th>\n",
       "      <th>secondary_cleaner.state.floatbank5_a_air</th>\n",
       "      <th>secondary_cleaner.state.floatbank5_a_level</th>\n",
       "      <th>secondary_cleaner.state.floatbank5_b_air</th>\n",
       "      <th>secondary_cleaner.state.floatbank5_b_level</th>\n",
       "      <th>secondary_cleaner.state.floatbank6_a_air</th>\n",
       "      <th>secondary_cleaner.state.floatbank6_a_level</th>\n",
       "    </tr>\n",
       "  </thead>\n",
       "  <tbody>\n",
       "    <tr>\n",
       "      <th>0</th>\n",
       "      <td>2016-09-01 00:59:59</td>\n",
       "      <td>210.800909</td>\n",
       "      <td>14.993118</td>\n",
       "      <td>8.080000</td>\n",
       "      <td>1.005021</td>\n",
       "      <td>1398.981301</td>\n",
       "      <td>-500.225577</td>\n",
       "      <td>1399.144926</td>\n",
       "      <td>-499.919735</td>\n",
       "      <td>1400.102998</td>\n",
       "      <td>...</td>\n",
       "      <td>12.023554</td>\n",
       "      <td>-497.795834</td>\n",
       "      <td>8.016656</td>\n",
       "      <td>-501.289139</td>\n",
       "      <td>7.946562</td>\n",
       "      <td>-432.317850</td>\n",
       "      <td>4.872511</td>\n",
       "      <td>-500.037437</td>\n",
       "      <td>26.705889</td>\n",
       "      <td>-499.709414</td>\n",
       "    </tr>\n",
       "    <tr>\n",
       "      <th>1</th>\n",
       "      <td>2016-09-01 01:59:59</td>\n",
       "      <td>215.392455</td>\n",
       "      <td>14.987471</td>\n",
       "      <td>8.080000</td>\n",
       "      <td>0.990469</td>\n",
       "      <td>1398.777912</td>\n",
       "      <td>-500.057435</td>\n",
       "      <td>1398.055362</td>\n",
       "      <td>-499.778182</td>\n",
       "      <td>1396.151033</td>\n",
       "      <td>...</td>\n",
       "      <td>12.058140</td>\n",
       "      <td>-498.695773</td>\n",
       "      <td>8.130979</td>\n",
       "      <td>-499.634209</td>\n",
       "      <td>7.958270</td>\n",
       "      <td>-525.839648</td>\n",
       "      <td>4.878850</td>\n",
       "      <td>-500.162375</td>\n",
       "      <td>25.019940</td>\n",
       "      <td>-499.819438</td>\n",
       "    </tr>\n",
       "    <tr>\n",
       "      <th>2</th>\n",
       "      <td>2016-09-01 02:59:59</td>\n",
       "      <td>215.259946</td>\n",
       "      <td>12.884934</td>\n",
       "      <td>7.786667</td>\n",
       "      <td>0.996043</td>\n",
       "      <td>1398.493666</td>\n",
       "      <td>-500.868360</td>\n",
       "      <td>1398.860436</td>\n",
       "      <td>-499.764529</td>\n",
       "      <td>1398.075709</td>\n",
       "      <td>...</td>\n",
       "      <td>11.962366</td>\n",
       "      <td>-498.767484</td>\n",
       "      <td>8.096893</td>\n",
       "      <td>-500.827423</td>\n",
       "      <td>8.071056</td>\n",
       "      <td>-500.801673</td>\n",
       "      <td>4.905125</td>\n",
       "      <td>-499.828510</td>\n",
       "      <td>24.994862</td>\n",
       "      <td>-500.622559</td>\n",
       "    </tr>\n",
       "    <tr>\n",
       "      <th>3</th>\n",
       "      <td>2016-09-01 03:59:59</td>\n",
       "      <td>215.336236</td>\n",
       "      <td>12.006805</td>\n",
       "      <td>7.640000</td>\n",
       "      <td>0.863514</td>\n",
       "      <td>1399.618111</td>\n",
       "      <td>-498.863574</td>\n",
       "      <td>1397.440120</td>\n",
       "      <td>-499.211024</td>\n",
       "      <td>1400.129303</td>\n",
       "      <td>...</td>\n",
       "      <td>12.033091</td>\n",
       "      <td>-498.350935</td>\n",
       "      <td>8.074946</td>\n",
       "      <td>-499.474407</td>\n",
       "      <td>7.897085</td>\n",
       "      <td>-500.868509</td>\n",
       "      <td>4.931400</td>\n",
       "      <td>-499.963623</td>\n",
       "      <td>24.948919</td>\n",
       "      <td>-498.709987</td>\n",
       "    </tr>\n",
       "    <tr>\n",
       "      <th>4</th>\n",
       "      <td>2016-09-01 04:59:59</td>\n",
       "      <td>199.099327</td>\n",
       "      <td>10.682530</td>\n",
       "      <td>7.530000</td>\n",
       "      <td>0.805575</td>\n",
       "      <td>1401.268123</td>\n",
       "      <td>-500.808305</td>\n",
       "      <td>1398.128818</td>\n",
       "      <td>-499.504543</td>\n",
       "      <td>1402.172226</td>\n",
       "      <td>...</td>\n",
       "      <td>12.025367</td>\n",
       "      <td>-500.786497</td>\n",
       "      <td>8.054678</td>\n",
       "      <td>-500.397500</td>\n",
       "      <td>8.107890</td>\n",
       "      <td>-509.526725</td>\n",
       "      <td>4.957674</td>\n",
       "      <td>-500.360026</td>\n",
       "      <td>25.003331</td>\n",
       "      <td>-500.856333</td>\n",
       "    </tr>\n",
       "  </tbody>\n",
       "</table>\n",
       "<p>5 rows × 53 columns</p>\n",
       "</div>"
      ],
      "text/plain": [
       "                  date  primary_cleaner.input.sulfate  \\\n",
       "0  2016-09-01 00:59:59                     210.800909   \n",
       "1  2016-09-01 01:59:59                     215.392455   \n",
       "2  2016-09-01 02:59:59                     215.259946   \n",
       "3  2016-09-01 03:59:59                     215.336236   \n",
       "4  2016-09-01 04:59:59                     199.099327   \n",
       "\n",
       "   primary_cleaner.input.depressant  primary_cleaner.input.feed_size  \\\n",
       "0                         14.993118                         8.080000   \n",
       "1                         14.987471                         8.080000   \n",
       "2                         12.884934                         7.786667   \n",
       "3                         12.006805                         7.640000   \n",
       "4                         10.682530                         7.530000   \n",
       "\n",
       "   primary_cleaner.input.xanthate  primary_cleaner.state.floatbank8_a_air  \\\n",
       "0                        1.005021                             1398.981301   \n",
       "1                        0.990469                             1398.777912   \n",
       "2                        0.996043                             1398.493666   \n",
       "3                        0.863514                             1399.618111   \n",
       "4                        0.805575                             1401.268123   \n",
       "\n",
       "   primary_cleaner.state.floatbank8_a_level  \\\n",
       "0                               -500.225577   \n",
       "1                               -500.057435   \n",
       "2                               -500.868360   \n",
       "3                               -498.863574   \n",
       "4                               -500.808305   \n",
       "\n",
       "   primary_cleaner.state.floatbank8_b_air  \\\n",
       "0                             1399.144926   \n",
       "1                             1398.055362   \n",
       "2                             1398.860436   \n",
       "3                             1397.440120   \n",
       "4                             1398.128818   \n",
       "\n",
       "   primary_cleaner.state.floatbank8_b_level  \\\n",
       "0                               -499.919735   \n",
       "1                               -499.778182   \n",
       "2                               -499.764529   \n",
       "3                               -499.211024   \n",
       "4                               -499.504543   \n",
       "\n",
       "   primary_cleaner.state.floatbank8_c_air  ...  \\\n",
       "0                             1400.102998  ...   \n",
       "1                             1396.151033  ...   \n",
       "2                             1398.075709  ...   \n",
       "3                             1400.129303  ...   \n",
       "4                             1402.172226  ...   \n",
       "\n",
       "   secondary_cleaner.state.floatbank4_a_air  \\\n",
       "0                                 12.023554   \n",
       "1                                 12.058140   \n",
       "2                                 11.962366   \n",
       "3                                 12.033091   \n",
       "4                                 12.025367   \n",
       "\n",
       "   secondary_cleaner.state.floatbank4_a_level  \\\n",
       "0                                 -497.795834   \n",
       "1                                 -498.695773   \n",
       "2                                 -498.767484   \n",
       "3                                 -498.350935   \n",
       "4                                 -500.786497   \n",
       "\n",
       "   secondary_cleaner.state.floatbank4_b_air  \\\n",
       "0                                  8.016656   \n",
       "1                                  8.130979   \n",
       "2                                  8.096893   \n",
       "3                                  8.074946   \n",
       "4                                  8.054678   \n",
       "\n",
       "   secondary_cleaner.state.floatbank4_b_level  \\\n",
       "0                                 -501.289139   \n",
       "1                                 -499.634209   \n",
       "2                                 -500.827423   \n",
       "3                                 -499.474407   \n",
       "4                                 -500.397500   \n",
       "\n",
       "   secondary_cleaner.state.floatbank5_a_air  \\\n",
       "0                                  7.946562   \n",
       "1                                  7.958270   \n",
       "2                                  8.071056   \n",
       "3                                  7.897085   \n",
       "4                                  8.107890   \n",
       "\n",
       "   secondary_cleaner.state.floatbank5_a_level  \\\n",
       "0                                 -432.317850   \n",
       "1                                 -525.839648   \n",
       "2                                 -500.801673   \n",
       "3                                 -500.868509   \n",
       "4                                 -509.526725   \n",
       "\n",
       "   secondary_cleaner.state.floatbank5_b_air  \\\n",
       "0                                  4.872511   \n",
       "1                                  4.878850   \n",
       "2                                  4.905125   \n",
       "3                                  4.931400   \n",
       "4                                  4.957674   \n",
       "\n",
       "   secondary_cleaner.state.floatbank5_b_level  \\\n",
       "0                                 -500.037437   \n",
       "1                                 -500.162375   \n",
       "2                                 -499.828510   \n",
       "3                                 -499.963623   \n",
       "4                                 -500.360026   \n",
       "\n",
       "   secondary_cleaner.state.floatbank6_a_air  \\\n",
       "0                                 26.705889   \n",
       "1                                 25.019940   \n",
       "2                                 24.994862   \n",
       "3                                 24.948919   \n",
       "4                                 25.003331   \n",
       "\n",
       "   secondary_cleaner.state.floatbank6_a_level  \n",
       "0                                 -499.709414  \n",
       "1                                 -499.819438  \n",
       "2                                 -500.622559  \n",
       "3                                 -498.709987  \n",
       "4                                 -500.856333  \n",
       "\n",
       "[5 rows x 53 columns]"
      ]
     },
     "execution_count": 4,
     "metadata": {},
     "output_type": "execute_result"
    }
   ],
   "source": [
    "gold_recovery_test.info()\n",
    "gold_recovery_test.head()"
   ]
  },
  {
   "cell_type": "code",
   "execution_count": 5,
   "metadata": {
    "collapsed": true
   },
   "outputs": [
    {
     "name": "stdout",
     "output_type": "stream",
     "text": [
      "<class 'pandas.core.frame.DataFrame'>\n",
      "RangeIndex: 19439 entries, 0 to 19438\n",
      "Data columns (total 87 columns):\n",
      " #   Column                                              Non-Null Count  Dtype  \n",
      "---  ------                                              --------------  -----  \n",
      " 0   date                                                19439 non-null  object \n",
      " 1   final.output.concentrate_ag                         19438 non-null  float64\n",
      " 2   final.output.concentrate_pb                         19438 non-null  float64\n",
      " 3   final.output.concentrate_sol                        19228 non-null  float64\n",
      " 4   final.output.concentrate_au                         19439 non-null  float64\n",
      " 5   final.output.recovery                               19439 non-null  float64\n",
      " 6   final.output.tail_ag                                19438 non-null  float64\n",
      " 7   final.output.tail_pb                                19338 non-null  float64\n",
      " 8   final.output.tail_sol                               19433 non-null  float64\n",
      " 9   final.output.tail_au                                19439 non-null  float64\n",
      " 10  primary_cleaner.input.sulfate                       19415 non-null  float64\n",
      " 11  primary_cleaner.input.depressant                    19402 non-null  float64\n",
      " 12  primary_cleaner.input.feed_size                     19439 non-null  float64\n",
      " 13  primary_cleaner.input.xanthate                      19335 non-null  float64\n",
      " 14  primary_cleaner.output.concentrate_ag               19439 non-null  float64\n",
      " 15  primary_cleaner.output.concentrate_pb               19323 non-null  float64\n",
      " 16  primary_cleaner.output.concentrate_sol              19069 non-null  float64\n",
      " 17  primary_cleaner.output.concentrate_au               19439 non-null  float64\n",
      " 18  primary_cleaner.output.tail_ag                      19435 non-null  float64\n",
      " 19  primary_cleaner.output.tail_pb                      19418 non-null  float64\n",
      " 20  primary_cleaner.output.tail_sol                     19377 non-null  float64\n",
      " 21  primary_cleaner.output.tail_au                      19439 non-null  float64\n",
      " 22  primary_cleaner.state.floatbank8_a_air              19435 non-null  float64\n",
      " 23  primary_cleaner.state.floatbank8_a_level            19438 non-null  float64\n",
      " 24  primary_cleaner.state.floatbank8_b_air              19435 non-null  float64\n",
      " 25  primary_cleaner.state.floatbank8_b_level            19438 non-null  float64\n",
      " 26  primary_cleaner.state.floatbank8_c_air              19437 non-null  float64\n",
      " 27  primary_cleaner.state.floatbank8_c_level            19438 non-null  float64\n",
      " 28  primary_cleaner.state.floatbank8_d_air              19436 non-null  float64\n",
      " 29  primary_cleaner.state.floatbank8_d_level            19438 non-null  float64\n",
      " 30  rougher.calculation.sulfate_to_au_concentrate       19437 non-null  float64\n",
      " 31  rougher.calculation.floatbank10_sulfate_to_au_feed  19437 non-null  float64\n",
      " 32  rougher.calculation.floatbank11_sulfate_to_au_feed  19437 non-null  float64\n",
      " 33  rougher.calculation.au_pb_ratio                     19439 non-null  float64\n",
      " 34  rougher.input.feed_ag                               19439 non-null  float64\n",
      " 35  rougher.input.feed_pb                               19339 non-null  float64\n",
      " 36  rougher.input.feed_rate                             19428 non-null  float64\n",
      " 37  rougher.input.feed_size                             19294 non-null  float64\n",
      " 38  rougher.input.feed_sol                              19340 non-null  float64\n",
      " 39  rougher.input.feed_au                               19439 non-null  float64\n",
      " 40  rougher.input.floatbank10_sulfate                   19405 non-null  float64\n",
      " 41  rougher.input.floatbank10_xanthate                  19431 non-null  float64\n",
      " 42  rougher.input.floatbank11_sulfate                   19395 non-null  float64\n",
      " 43  rougher.input.floatbank11_xanthate                  18986 non-null  float64\n",
      " 44  rougher.output.concentrate_ag                       19439 non-null  float64\n",
      " 45  rougher.output.concentrate_pb                       19439 non-null  float64\n",
      " 46  rougher.output.concentrate_sol                      19416 non-null  float64\n",
      " 47  rougher.output.concentrate_au                       19439 non-null  float64\n",
      " 48  rougher.output.recovery                             19439 non-null  float64\n",
      " 49  rougher.output.tail_ag                              19438 non-null  float64\n",
      " 50  rougher.output.tail_pb                              19439 non-null  float64\n",
      " 51  rougher.output.tail_sol                             19439 non-null  float64\n",
      " 52  rougher.output.tail_au                              19439 non-null  float64\n",
      " 53  rougher.state.floatbank10_a_air                     19438 non-null  float64\n",
      " 54  rougher.state.floatbank10_a_level                   19438 non-null  float64\n",
      " 55  rougher.state.floatbank10_b_air                     19438 non-null  float64\n",
      " 56  rougher.state.floatbank10_b_level                   19438 non-null  float64\n",
      " 57  rougher.state.floatbank10_c_air                     19438 non-null  float64\n",
      " 58  rougher.state.floatbank10_c_level                   19438 non-null  float64\n",
      " 59  rougher.state.floatbank10_d_air                     19439 non-null  float64\n",
      " 60  rougher.state.floatbank10_d_level                   19439 non-null  float64\n",
      " 61  rougher.state.floatbank10_e_air                     19003 non-null  float64\n",
      " 62  rougher.state.floatbank10_e_level                   19439 non-null  float64\n",
      " 63  rougher.state.floatbank10_f_air                     19439 non-null  float64\n",
      " 64  rougher.state.floatbank10_f_level                   19439 non-null  float64\n",
      " 65  secondary_cleaner.output.tail_ag                    19437 non-null  float64\n",
      " 66  secondary_cleaner.output.tail_pb                    19427 non-null  float64\n",
      " 67  secondary_cleaner.output.tail_sol                   17691 non-null  float64\n",
      " 68  secondary_cleaner.output.tail_au                    19439 non-null  float64\n",
      " 69  secondary_cleaner.state.floatbank2_a_air            19219 non-null  float64\n",
      " 70  secondary_cleaner.state.floatbank2_a_level          19438 non-null  float64\n",
      " 71  secondary_cleaner.state.floatbank2_b_air            19416 non-null  float64\n",
      " 72  secondary_cleaner.state.floatbank2_b_level          19438 non-null  float64\n",
      " 73  secondary_cleaner.state.floatbank3_a_air            19426 non-null  float64\n",
      " 74  secondary_cleaner.state.floatbank3_a_level          19438 non-null  float64\n",
      " 75  secondary_cleaner.state.floatbank3_b_air            19438 non-null  float64\n",
      " 76  secondary_cleaner.state.floatbank3_b_level          19438 non-null  float64\n",
      " 77  secondary_cleaner.state.floatbank4_a_air            19433 non-null  float64\n",
      " 78  secondary_cleaner.state.floatbank4_a_level          19438 non-null  float64\n",
      " 79  secondary_cleaner.state.floatbank4_b_air            19438 non-null  float64\n",
      " 80  secondary_cleaner.state.floatbank4_b_level          19438 non-null  float64\n",
      " 81  secondary_cleaner.state.floatbank5_a_air            19438 non-null  float64\n",
      " 82  secondary_cleaner.state.floatbank5_a_level          19438 non-null  float64\n",
      " 83  secondary_cleaner.state.floatbank5_b_air            19438 non-null  float64\n",
      " 84  secondary_cleaner.state.floatbank5_b_level          19438 non-null  float64\n",
      " 85  secondary_cleaner.state.floatbank6_a_air            19437 non-null  float64\n",
      " 86  secondary_cleaner.state.floatbank6_a_level          19438 non-null  float64\n",
      "dtypes: float64(86), object(1)\n",
      "memory usage: 12.9+ MB\n"
     ]
    },
    {
     "data": {
      "text/html": [
       "<div>\n",
       "<style scoped>\n",
       "    .dataframe tbody tr th:only-of-type {\n",
       "        vertical-align: middle;\n",
       "    }\n",
       "\n",
       "    .dataframe tbody tr th {\n",
       "        vertical-align: top;\n",
       "    }\n",
       "\n",
       "    .dataframe thead th {\n",
       "        text-align: right;\n",
       "    }\n",
       "</style>\n",
       "<table border=\"1\" class=\"dataframe\">\n",
       "  <thead>\n",
       "    <tr style=\"text-align: right;\">\n",
       "      <th></th>\n",
       "      <th>date</th>\n",
       "      <th>final.output.concentrate_ag</th>\n",
       "      <th>final.output.concentrate_pb</th>\n",
       "      <th>final.output.concentrate_sol</th>\n",
       "      <th>final.output.concentrate_au</th>\n",
       "      <th>final.output.recovery</th>\n",
       "      <th>final.output.tail_ag</th>\n",
       "      <th>final.output.tail_pb</th>\n",
       "      <th>final.output.tail_sol</th>\n",
       "      <th>final.output.tail_au</th>\n",
       "      <th>...</th>\n",
       "      <th>secondary_cleaner.state.floatbank4_a_air</th>\n",
       "      <th>secondary_cleaner.state.floatbank4_a_level</th>\n",
       "      <th>secondary_cleaner.state.floatbank4_b_air</th>\n",
       "      <th>secondary_cleaner.state.floatbank4_b_level</th>\n",
       "      <th>secondary_cleaner.state.floatbank5_a_air</th>\n",
       "      <th>secondary_cleaner.state.floatbank5_a_level</th>\n",
       "      <th>secondary_cleaner.state.floatbank5_b_air</th>\n",
       "      <th>secondary_cleaner.state.floatbank5_b_level</th>\n",
       "      <th>secondary_cleaner.state.floatbank6_a_air</th>\n",
       "      <th>secondary_cleaner.state.floatbank6_a_level</th>\n",
       "    </tr>\n",
       "  </thead>\n",
       "  <tbody>\n",
       "    <tr>\n",
       "      <th>0</th>\n",
       "      <td>2016-01-15 00:00:00</td>\n",
       "      <td>6.055403</td>\n",
       "      <td>9.889648</td>\n",
       "      <td>5.507324</td>\n",
       "      <td>42.192020</td>\n",
       "      <td>70.541216</td>\n",
       "      <td>10.411962</td>\n",
       "      <td>0.895447</td>\n",
       "      <td>16.904297</td>\n",
       "      <td>2.143149</td>\n",
       "      <td>...</td>\n",
       "      <td>14.016835</td>\n",
       "      <td>-502.488007</td>\n",
       "      <td>12.099931</td>\n",
       "      <td>-504.715942</td>\n",
       "      <td>9.925633</td>\n",
       "      <td>-498.310211</td>\n",
       "      <td>8.079666</td>\n",
       "      <td>-500.470978</td>\n",
       "      <td>14.151341</td>\n",
       "      <td>-605.841980</td>\n",
       "    </tr>\n",
       "    <tr>\n",
       "      <th>1</th>\n",
       "      <td>2016-01-15 01:00:00</td>\n",
       "      <td>6.029369</td>\n",
       "      <td>9.968944</td>\n",
       "      <td>5.257781</td>\n",
       "      <td>42.701629</td>\n",
       "      <td>69.266198</td>\n",
       "      <td>10.462676</td>\n",
       "      <td>0.927452</td>\n",
       "      <td>16.634514</td>\n",
       "      <td>2.224930</td>\n",
       "      <td>...</td>\n",
       "      <td>13.992281</td>\n",
       "      <td>-505.503262</td>\n",
       "      <td>11.950531</td>\n",
       "      <td>-501.331529</td>\n",
       "      <td>10.039245</td>\n",
       "      <td>-500.169983</td>\n",
       "      <td>7.984757</td>\n",
       "      <td>-500.582168</td>\n",
       "      <td>13.998353</td>\n",
       "      <td>-599.787184</td>\n",
       "    </tr>\n",
       "    <tr>\n",
       "      <th>2</th>\n",
       "      <td>2016-01-15 02:00:00</td>\n",
       "      <td>6.055926</td>\n",
       "      <td>10.213995</td>\n",
       "      <td>5.383759</td>\n",
       "      <td>42.657501</td>\n",
       "      <td>68.116445</td>\n",
       "      <td>10.507046</td>\n",
       "      <td>0.953716</td>\n",
       "      <td>16.208849</td>\n",
       "      <td>2.257889</td>\n",
       "      <td>...</td>\n",
       "      <td>14.015015</td>\n",
       "      <td>-502.520901</td>\n",
       "      <td>11.912783</td>\n",
       "      <td>-501.133383</td>\n",
       "      <td>10.070913</td>\n",
       "      <td>-500.129135</td>\n",
       "      <td>8.013877</td>\n",
       "      <td>-500.517572</td>\n",
       "      <td>14.028663</td>\n",
       "      <td>-601.427363</td>\n",
       "    </tr>\n",
       "    <tr>\n",
       "      <th>3</th>\n",
       "      <td>2016-01-15 03:00:00</td>\n",
       "      <td>6.047977</td>\n",
       "      <td>9.977019</td>\n",
       "      <td>4.858634</td>\n",
       "      <td>42.689819</td>\n",
       "      <td>68.347543</td>\n",
       "      <td>10.422762</td>\n",
       "      <td>0.883763</td>\n",
       "      <td>16.532835</td>\n",
       "      <td>2.146849</td>\n",
       "      <td>...</td>\n",
       "      <td>14.036510</td>\n",
       "      <td>-500.857308</td>\n",
       "      <td>11.999550</td>\n",
       "      <td>-501.193686</td>\n",
       "      <td>9.970366</td>\n",
       "      <td>-499.201640</td>\n",
       "      <td>7.977324</td>\n",
       "      <td>-500.255908</td>\n",
       "      <td>14.005551</td>\n",
       "      <td>-599.996129</td>\n",
       "    </tr>\n",
       "    <tr>\n",
       "      <th>4</th>\n",
       "      <td>2016-01-15 04:00:00</td>\n",
       "      <td>6.148599</td>\n",
       "      <td>10.142511</td>\n",
       "      <td>4.939416</td>\n",
       "      <td>42.774141</td>\n",
       "      <td>66.927016</td>\n",
       "      <td>10.360302</td>\n",
       "      <td>0.792826</td>\n",
       "      <td>16.525686</td>\n",
       "      <td>2.055292</td>\n",
       "      <td>...</td>\n",
       "      <td>14.027298</td>\n",
       "      <td>-499.838632</td>\n",
       "      <td>11.953070</td>\n",
       "      <td>-501.053894</td>\n",
       "      <td>9.925709</td>\n",
       "      <td>-501.686727</td>\n",
       "      <td>7.894242</td>\n",
       "      <td>-500.356035</td>\n",
       "      <td>13.996647</td>\n",
       "      <td>-601.496691</td>\n",
       "    </tr>\n",
       "  </tbody>\n",
       "</table>\n",
       "<p>5 rows × 87 columns</p>\n",
       "</div>"
      ],
      "text/plain": [
       "                  date  final.output.concentrate_ag  \\\n",
       "0  2016-01-15 00:00:00                     6.055403   \n",
       "1  2016-01-15 01:00:00                     6.029369   \n",
       "2  2016-01-15 02:00:00                     6.055926   \n",
       "3  2016-01-15 03:00:00                     6.047977   \n",
       "4  2016-01-15 04:00:00                     6.148599   \n",
       "\n",
       "   final.output.concentrate_pb  final.output.concentrate_sol  \\\n",
       "0                     9.889648                      5.507324   \n",
       "1                     9.968944                      5.257781   \n",
       "2                    10.213995                      5.383759   \n",
       "3                     9.977019                      4.858634   \n",
       "4                    10.142511                      4.939416   \n",
       "\n",
       "   final.output.concentrate_au  final.output.recovery  final.output.tail_ag  \\\n",
       "0                    42.192020              70.541216             10.411962   \n",
       "1                    42.701629              69.266198             10.462676   \n",
       "2                    42.657501              68.116445             10.507046   \n",
       "3                    42.689819              68.347543             10.422762   \n",
       "4                    42.774141              66.927016             10.360302   \n",
       "\n",
       "   final.output.tail_pb  final.output.tail_sol  final.output.tail_au  ...  \\\n",
       "0              0.895447              16.904297              2.143149  ...   \n",
       "1              0.927452              16.634514              2.224930  ...   \n",
       "2              0.953716              16.208849              2.257889  ...   \n",
       "3              0.883763              16.532835              2.146849  ...   \n",
       "4              0.792826              16.525686              2.055292  ...   \n",
       "\n",
       "   secondary_cleaner.state.floatbank4_a_air  \\\n",
       "0                                 14.016835   \n",
       "1                                 13.992281   \n",
       "2                                 14.015015   \n",
       "3                                 14.036510   \n",
       "4                                 14.027298   \n",
       "\n",
       "   secondary_cleaner.state.floatbank4_a_level  \\\n",
       "0                                 -502.488007   \n",
       "1                                 -505.503262   \n",
       "2                                 -502.520901   \n",
       "3                                 -500.857308   \n",
       "4                                 -499.838632   \n",
       "\n",
       "   secondary_cleaner.state.floatbank4_b_air  \\\n",
       "0                                 12.099931   \n",
       "1                                 11.950531   \n",
       "2                                 11.912783   \n",
       "3                                 11.999550   \n",
       "4                                 11.953070   \n",
       "\n",
       "   secondary_cleaner.state.floatbank4_b_level  \\\n",
       "0                                 -504.715942   \n",
       "1                                 -501.331529   \n",
       "2                                 -501.133383   \n",
       "3                                 -501.193686   \n",
       "4                                 -501.053894   \n",
       "\n",
       "   secondary_cleaner.state.floatbank5_a_air  \\\n",
       "0                                  9.925633   \n",
       "1                                 10.039245   \n",
       "2                                 10.070913   \n",
       "3                                  9.970366   \n",
       "4                                  9.925709   \n",
       "\n",
       "   secondary_cleaner.state.floatbank5_a_level  \\\n",
       "0                                 -498.310211   \n",
       "1                                 -500.169983   \n",
       "2                                 -500.129135   \n",
       "3                                 -499.201640   \n",
       "4                                 -501.686727   \n",
       "\n",
       "   secondary_cleaner.state.floatbank5_b_air  \\\n",
       "0                                  8.079666   \n",
       "1                                  7.984757   \n",
       "2                                  8.013877   \n",
       "3                                  7.977324   \n",
       "4                                  7.894242   \n",
       "\n",
       "   secondary_cleaner.state.floatbank5_b_level  \\\n",
       "0                                 -500.470978   \n",
       "1                                 -500.582168   \n",
       "2                                 -500.517572   \n",
       "3                                 -500.255908   \n",
       "4                                 -500.356035   \n",
       "\n",
       "   secondary_cleaner.state.floatbank6_a_air  \\\n",
       "0                                 14.151341   \n",
       "1                                 13.998353   \n",
       "2                                 14.028663   \n",
       "3                                 14.005551   \n",
       "4                                 13.996647   \n",
       "\n",
       "   secondary_cleaner.state.floatbank6_a_level  \n",
       "0                                 -605.841980  \n",
       "1                                 -599.787184  \n",
       "2                                 -601.427363  \n",
       "3                                 -599.996129  \n",
       "4                                 -601.496691  \n",
       "\n",
       "[5 rows x 87 columns]"
      ]
     },
     "execution_count": 5,
     "metadata": {},
     "output_type": "execute_result"
    }
   ],
   "source": [
    "gold_recovery_full.info()\n",
    "gold_recovery_full.head()"
   ]
  },
  {
   "cell_type": "markdown",
   "metadata": {},
   "source": [
    "### Проверка эффективности обогащения"
   ]
  },
  {
   "cell_type": "markdown",
   "metadata": {},
   "source": [
    "Вычислим ее на обучающей выборке для признака [rougher.output.recovery]. Найдем МАЕ между нашими расчетами и значением признака. Формула эффективности:"
   ]
  },
  {
   "attachments": {
    "image.png": {
     "image/png": "[encoded data removed]"
    }
   },
   "cell_type": "markdown",
   "metadata": {},
   "source": [
    "![image.png](attachment:image.png)"
   ]
  },
  {
   "cell_type": "markdown",
   "metadata": {},
   "source": [
    "где:\n",
    "<br>С - доля золота в концентрате после флотации/очистки\n",
    "<br>F - доля золота в сырье/концентрате до флотации/очистки\n",
    "<br>T - доля золота в отвальных хваостах после флотации/очистки\n",
    "\n",
    "<br>Столбцы, которые содержат эту информацию в обучающей выборке:\n",
    "<br>rougher.input.feed_au - концентрация в исходном сырье (F)\n",
    "<br>rougher.output.concentrate_au - концентрация после флотации/очистки (С)\n",
    "<br>rougher.output.tail_au - концентрация в отвальных хвостах (Т)"
   ]
  },
  {
   "cell_type": "code",
   "execution_count": 6,
   "metadata": {},
   "outputs": [
    {
     "name": "stdout",
     "output_type": "stream",
     "text": [
      "MAE: 9.73512347450521e-15 \n",
      "Медиана целевого признака: 85.2994620986978\n"
     ]
    }
   ],
   "source": [
    "f = gold_recovery_train['rougher.input.feed_au']\n",
    "c = gold_recovery_train['rougher.output.concentrate_au']\n",
    "t = gold_recovery_train['rougher.output.tail_au']\n",
    "\n",
    "recovery = ((c * (f - t)) / (f * (c - t))) * 100\n",
    "\n",
    "mae = mean_absolute_error(gold_recovery_train['rougher.output.recovery'], recovery)\n",
    "median = gold_recovery_train['rougher.output.recovery'].median()\n",
    "\n",
    "print('MAE:', mae, '\\nМедиана целевого признака:', median)"
   ]
  },
  {
   "cell_type": "markdown",
   "metadata": {},
   "source": [
    "МАЕ маленькое, значит все расчитано правильно."
   ]
  },
  {
   "cell_type": "markdown",
   "metadata": {},
   "source": [
    "### Анализ признаков, недоступных в тестовой выборке"
   ]
  },
  {
   "cell_type": "code",
   "execution_count": 7,
   "metadata": {},
   "outputs": [
    {
     "data": {
      "text/plain": [
       "['final.output.concentrate_ag',\n",
       " 'final.output.concentrate_pb',\n",
       " 'final.output.concentrate_sol',\n",
       " 'final.output.concentrate_au',\n",
       " 'final.output.recovery',\n",
       " 'final.output.tail_ag',\n",
       " 'final.output.tail_pb',\n",
       " 'final.output.tail_sol',\n",
       " 'final.output.tail_au',\n",
       " 'primary_cleaner.output.concentrate_ag',\n",
       " 'primary_cleaner.output.concentrate_pb',\n",
       " 'primary_cleaner.output.concentrate_sol',\n",
       " 'primary_cleaner.output.concentrate_au',\n",
       " 'primary_cleaner.output.tail_ag',\n",
       " 'primary_cleaner.output.tail_pb',\n",
       " 'primary_cleaner.output.tail_sol',\n",
       " 'primary_cleaner.output.tail_au',\n",
       " 'rougher.calculation.sulfate_to_au_concentrate',\n",
       " 'rougher.calculation.floatbank10_sulfate_to_au_feed',\n",
       " 'rougher.calculation.floatbank11_sulfate_to_au_feed',\n",
       " 'rougher.calculation.au_pb_ratio',\n",
       " 'rougher.output.concentrate_ag',\n",
       " 'rougher.output.concentrate_pb',\n",
       " 'rougher.output.concentrate_sol',\n",
       " 'rougher.output.concentrate_au',\n",
       " 'rougher.output.recovery',\n",
       " 'rougher.output.tail_ag',\n",
       " 'rougher.output.tail_pb',\n",
       " 'rougher.output.tail_sol',\n",
       " 'rougher.output.tail_au',\n",
       " 'secondary_cleaner.output.tail_ag',\n",
       " 'secondary_cleaner.output.tail_pb',\n",
       " 'secondary_cleaner.output.tail_sol',\n",
       " 'secondary_cleaner.output.tail_au']"
      ]
     },
     "execution_count": 7,
     "metadata": {},
     "output_type": "execute_result"
    }
   ],
   "source": [
    "features_not_in_test = []\n",
    "\n",
    "for feature in gold_recovery_train.columns:\n",
    "    if feature not in gold_recovery_test.columns:\n",
    "        features_not_in_test.append(feature)\n",
    "\n",
    "features_not_in_test"
   ]
  },
  {
   "cell_type": "markdown",
   "metadata": {},
   "source": [
    "В основном отсутвуют данные из блока [тип_параметра] - параметры продукта, но так же нет данных у 4 столбцов из того же блока, но уже расчётные характеристики. По условии задачи некоторые параметры замеряются и/или рассчитываются значительно позже. И нет, соотвественно, целевых признаков."
   ]
  },
  {
   "cell_type": "markdown",
   "metadata": {},
   "source": [
    "### Предобработка данных"
   ]
  },
  {
   "cell_type": "markdown",
   "metadata": {},
   "source": [
    "Поменяем тип данных в столбце с датой с object на datetime и отсортируем его."
   ]
  },
  {
   "cell_type": "code",
   "execution_count": 8,
   "metadata": {},
   "outputs": [
    {
     "name": "stdout",
     "output_type": "stream",
     "text": [
      "datetime64[ns]\n",
      "datetime64[ns]\n",
      "datetime64[ns]\n"
     ]
    }
   ],
   "source": [
    "for df in [gold_recovery_train, gold_recovery_test, gold_recovery_full]:\n",
    "    df['date'] = pd.to_datetime(df['date'], format='%Y-%m-%d %H:%M:%S')\n",
    "    df.sort_values(by='date', ascending=True, inplace=True)\n",
    "    print(df['date'].dtype)"
   ]
  },
  {
   "cell_type": "markdown",
   "metadata": {},
   "source": [
    "Проверим дубликаты."
   ]
  },
  {
   "cell_type": "code",
   "execution_count": 9,
   "metadata": {},
   "outputs": [
    {
     "name": "stdout",
     "output_type": "stream",
     "text": [
      "0\n",
      "0\n",
      "0\n"
     ]
    }
   ],
   "source": [
    "for df in [gold_recovery_train, gold_recovery_test, gold_recovery_full]:\n",
    "    print(df.duplicated().sum())"
   ]
  },
  {
   "cell_type": "markdown",
   "metadata": {},
   "source": [
    "Чтобы потом не думать о фильтрации данных при построении графиков и расчетах, на которых отсутствующие значения могут показаться, заполним пропуским с помощью pd.ffill. Он заполнит строки предшествующим значением."
   ]
  },
  {
   "cell_type": "code",
   "execution_count": 10,
   "metadata": {},
   "outputs": [
    {
     "name": "stdout",
     "output_type": "stream",
     "text": [
      "14149 14149\n",
      "5290 5290\n",
      "19439 19439\n"
     ]
    }
   ],
   "source": [
    "gr_train = gold_recovery_train.ffill(axis=0)\n",
    "gr_test = gold_recovery_test.ffill(axis=0)\n",
    "gr_full = gold_recovery_full.ffill(axis=0)\n",
    "\n",
    "for df in [gr_train, gr_test, gr_full]:\n",
    "    print(df.shape[0], len(df[df.isna() == False]))"
   ]
  },
  {
   "cell_type": "markdown",
   "metadata": {},
   "source": [
    "Так же добавим в тестовую выборку целевые признаки - 'rougher.output.recovery' и 'final.output.recovery', по ним мы будем высчитывать метрику кач-ва sMAPE."
   ]
  },
  {
   "cell_type": "code",
   "execution_count": 11,
   "metadata": {},
   "outputs": [],
   "source": [
    "gr_test = gr_test.merge(gr_full.loc[:, ['date','rougher.output.recovery','final.output.recovery']], on='date')"
   ]
  },
  {
   "cell_type": "markdown",
   "metadata": {},
   "source": [
    "И уберем столбец с датой, он больше нам не нужен. При обучении модели он будет бесполезен."
   ]
  },
  {
   "cell_type": "code",
   "execution_count": 12,
   "metadata": {},
   "outputs": [],
   "source": [
    "for df in [gr_test, gr_train, gr_full]:\n",
    "    df.drop('date', axis=1, inplace=True)"
   ]
  },
  {
   "cell_type": "markdown",
   "metadata": {},
   "source": [
    "## Анализ данных"
   ]
  },
  {
   "cell_type": "markdown",
   "metadata": {},
   "source": [
    "### Измнения концентрации металлов (Au, Ag, Pb) на различных этапах очистки."
   ]
  },
  {
   "cell_type": "markdown",
   "metadata": {},
   "source": [
    "4 стадии: исходное сырье, продукт после флотации, после первой очистки, после второ очистки - финальный продукт."
   ]
  },
  {
   "cell_type": "code",
   "execution_count": 13,
   "metadata": {},
   "outputs": [
    {
     "data": {
      "image/png": "[encoded data removed]",
      "text/plain": [
       "<Figure size 1080x360 with 1 Axes>"
      ]
     },
     "metadata": {
      "needs_background": "light"
     },
     "output_type": "display_data"
    },
    {
     "data": {
      "image/png": "[encoded data removed]",
      "text/plain": [
       "<Figure size 1080x360 with 1 Axes>"
      ]
     },
     "metadata": {
      "needs_background": "light"
     },
     "output_type": "display_data"
    },
    {
     "data": {
      "image/png": "[encoded data removed]",
      "text/plain": [
       "<Figure size 1080x360 with 1 Axes>"
      ]
     },
     "metadata": {
      "needs_background": "light"
     },
     "output_type": "display_data"
    }
   ],
   "source": [
    "metals = ['au', 'ag', 'pb']\n",
    "\n",
    "for metal in metals:\n",
    "    plt.figure(figsize=(15, 5))\n",
    "    plt.hist(gr_train[f'rougher.input.feed_{metal}'], alpha=.5, bins=30, label='Исходное сырье', edgecolor='white')\n",
    "    plt.hist(gr_train[f'rougher.output.concentrate_{metal}'], alpha=.5, bins=30, label='После флотации', edgecolor='white')\n",
    "    plt.hist(gr_train[f'primary_cleaner.output.concentrate_{metal}'], alpha=.5, bins=30, label='После первой очистки', edgecolor='white')\n",
    "    plt.hist(gr_train[f'final.output.concentrate_{metal}'], alpha=.5, bins=30, label='Финальный продукт', edgecolor='white')\n",
    "    plt.title(f'Распределение для {metal}')\n",
    "    plt.xlabel('Концентрация')\n",
    "    plt.ylabel('Кол-во значений')\n",
    "    plt.legend()\n",
    "    plt.show()"
   ]
  },
  {
   "cell_type": "markdown",
   "metadata": {},
   "source": [
    "Концентрация золота с каждым этапом возрастает, как и должно быть. Концентрация серебра достигает пика после флотации, но потом уменьшается. А концентрация свинца после первой очистки почти не меняется. Также на гистограммах видно выбросы в районе нуля."
   ]
  },
  {
   "cell_type": "markdown",
   "metadata": {},
   "source": [
    "### Сравние распределения размеров гранул сырья на обучающей и тестовой выборках."
   ]
  },
  {
   "cell_type": "markdown",
   "metadata": {},
   "source": [
    "Есть два размера гранул: исходное сырье и продукт после флотации."
   ]
  },
  {
   "cell_type": "code",
   "execution_count": 14,
   "metadata": {},
   "outputs": [
    {
     "data": {
      "image/png": "[encoded data removed]",
      "text/plain": [
       "<Figure size 432x288 with 1 Axes>"
      ]
     },
     "metadata": {
      "needs_background": "light"
     },
     "output_type": "display_data"
    }
   ],
   "source": [
    "train_feed_size = gr_train[['rougher.input.feed_size', 'primary_cleaner.input.feed_size']]\n",
    "test_feed_size = gr_test[['rougher.input.feed_size', 'primary_cleaner.input.feed_size']]\n",
    "\n",
    "for df in [train_feed_size, test_feed_size]:\n",
    "    plt.hist(df['rougher.input.feed_size'], bins=30, alpha=.5, edgecolor='white', density=True)\n",
    "    plt.xlabel('Размер гранул')\n",
    "    plt.ylabel('Кол-во значений')\n",
    "    plt.title('Исходное сырье')"
   ]
  },
  {
   "cell_type": "code",
   "execution_count": 15,
   "metadata": {},
   "outputs": [
    {
     "data": {
      "image/png": "[encoded data removed]",
      "text/plain": [
       "<Figure size 432x288 with 1 Axes>"
      ]
     },
     "metadata": {
      "needs_background": "light"
     },
     "output_type": "display_data"
    }
   ],
   "source": [
    "for df in [train_feed_size, test_feed_size]:\n",
    "    plt.hist(df['primary_cleaner.input.feed_size'], bins=30, alpha=.5, edgecolor='white', density=True)\n",
    "    plt.xlabel('Размер гранул')\n",
    "    plt.ylabel('Кол-во значений')\n",
    "    plt.title('После флотации')"
   ]
  },
  {
   "attachments": {},
   "cell_type": "markdown",
   "metadata": {},
   "source": [
    "После флотации размер гранул уменьшается. Различий аспределения на тестовой и тренировочной выборках на разных этапах обработки не наблюдается."
   ]
  },
  {
   "cell_type": "markdown",
   "metadata": {},
   "source": [
    "### Исследование суммарной концентрации всех веществ на разных стадиях: в сырье, в черновом и финальном концентратах."
   ]
  },
  {
   "cell_type": "code",
   "execution_count": 16,
   "metadata": {},
   "outputs": [],
   "source": [
    "#исходное сырье\n",
    "sum_rougher_input = (gr_train['rougher.input.feed_ag'] \n",
    "                    + gr_train['rougher.input.feed_au'] \n",
    "                    + gr_train['rougher.input.feed_pb'] \n",
    "                    + gr_train['rougher.input.feed_sol'])\n",
    "\n",
    "#черновой концентрат\n",
    "sum_primary_output = (gr_train['primary_cleaner.output.concentrate_ag'] \n",
    "                     + gr_train['primary_cleaner.output.concentrate_au'] \n",
    "                     + gr_train['primary_cleaner.output.concentrate_pb'] \n",
    "                     + gr_train['primary_cleaner.output.concentrate_sol'])\n",
    "\n",
    "\n",
    "#финальный концентрат\n",
    "sum_final_output = (gr_train['final.output.concentrate_ag'] \n",
    "                    + gr_train['final.output.concentrate_au'] \n",
    "                    + gr_train['final.output.concentrate_pb'] \n",
    "                    + gr_train['final.output.concentrate_sol'])\n"
   ]
  },
  {
   "cell_type": "code",
   "execution_count": 17,
   "metadata": {},
   "outputs": [
    {
     "data": {
      "image/png": "[encoded data removed]",
      "text/plain": [
       "<Figure size 432x288 with 1 Axes>"
      ]
     },
     "metadata": {
      "needs_background": "light"
     },
     "output_type": "display_data"
    }
   ],
   "source": [
    "plt.hist(sum_rougher_input, bins=30, alpha=.5, label='Сырье', edgecolor='white')\n",
    "plt.hist(sum_primary_output, bins=30, alpha=.5, label='Черновой концентрант', edgecolor='white')\n",
    "plt.hist(sum_final_output, bins=30, alpha=.5, label='Финальный концентрант', edgecolor='white')\n",
    "plt.xlabel('Суммарная концентрация')\n",
    "plt.ylabel('Кол-во значений')\n",
    "plt.legend()\n",
    "plt.show()"
   ]
  },
  {
   "cell_type": "markdown",
   "metadata": {},
   "source": [
    "К финальному этапу суммарная концентрация веществ увеличивается. В финальном концентрате диапазон значений сужается, т.к. уменьшается процент ненужного сырья. Избавимся от аномалий в концентрация, чтобы улучшить наши метрики в будущем."
   ]
  },
  {
   "cell_type": "code",
   "execution_count": 18,
   "metadata": {},
   "outputs": [],
   "source": [
    "metals = metals = ['au', 'ag', 'pb']\n",
    "\n",
    "for metal in metals:\n",
    "    gr_train = gr_train[gr_train[f'rougher.input.feed_{metal}'] > 1]\n",
    "    gr_train = gr_train[gr_train[f'rougher.output.concentrate_{metal}'] > 1]\n",
    "    gr_train = gr_train[gr_train[f'primary_cleaner.output.concentrate_{metal}'] > 1]\n",
    "    gr_train = gr_train[gr_train[f'final.output.concentrate_{metal}'] > 1]"
   ]
  },
  {
   "cell_type": "code",
   "execution_count": 19,
   "metadata": {},
   "outputs": [],
   "source": [
    "gr_train = gr_train.dropna(axis=1)"
   ]
  },
  {
   "cell_type": "markdown",
   "metadata": {},
   "source": [
    "## Модель"
   ]
  },
  {
   "cell_type": "markdown",
   "metadata": {},
   "source": [
    "### Функция для вычисления итоговой sMAPE"
   ]
  },
  {
   "attachments": {
    "image-2.png": {
     "image/png": "[encoded data removed]"
    },
    "image.png": {
     "image/png": "[encoded data removed]"
    }
   },
   "cell_type": "markdown",
   "metadata": {},
   "source": [
    "![image.png](attachment:image.png)\n",
    "![image.png](attachment:image-2.png)"
   ]
  },
  {
   "cell_type": "code",
   "execution_count": 20,
   "metadata": {},
   "outputs": [],
   "source": [
    "def sMAPE(target, predictions):\n",
    "    sMAPE = (1 / len(target)) * np.sum((np.abs(target - predictions)) /( (np.abs(target) + np.abs(predictions)) / 2)) * 100\n",
    "    return sMAPE\n",
    "\n",
    "sMAPE_scorer = make_scorer(sMAPE) "
   ]
  },
  {
   "cell_type": "code",
   "execution_count": 21,
   "metadata": {},
   "outputs": [],
   "source": [
    "def final_sMAPE(sMAPE_rougher, sMAPE_final):\n",
    "    final_sMAPE = .25 * abs(sMAPE_rougher) + .75 * abs(sMAPE_final)\n",
    "    return final_sMAPE"
   ]
  },
  {
   "cell_type": "markdown",
   "metadata": {},
   "source": [
    "Во время первой попытки обучения лучшей моделью оказалась линейная регрессиия, значит произошла утечка целевого признака. Удалим из тренировочного датасета те признаки, что отсутсвуют в тестовой выборке."
   ]
  },
  {
   "cell_type": "code",
   "execution_count": 22,
   "metadata": {},
   "outputs": [],
   "source": [
    "features_not_in_test_new = []\n",
    "\n",
    "for feature in gr_train.columns:\n",
    "    if feature not in gr_test.columns:\n",
    "        features_not_in_test_new.append(feature)\n",
    "\n",
    "gr_train = gr_train.drop(features_not_in_test_new, axis=1)"
   ]
  },
  {
   "cell_type": "markdown",
   "metadata": {},
   "source": [
    "Выделим признаки и целевые признаки."
   ]
  },
  {
   "cell_type": "code",
   "execution_count": 23,
   "metadata": {},
   "outputs": [],
   "source": [
    "features_train = gr_train.drop(['rougher.output.recovery', 'final.output.recovery'], axis=1)\n",
    "target_train_rougher = gr_train['rougher.output.recovery']\n",
    "target_train_final = gr_train['final.output.recovery']"
   ]
  },
  {
   "cell_type": "markdown",
   "metadata": {},
   "source": [
    "### Модель LinearRegression"
   ]
  },
  {
   "cell_type": "code",
   "execution_count": 24,
   "metadata": {},
   "outputs": [
    {
     "name": "stdout",
     "output_type": "stream",
     "text": [
      "Итоговая sMAPE для линейной регрессии: 10.001248787875358\n"
     ]
    }
   ],
   "source": [
    "#для rougher\n",
    "lin_reg_rougher = LinearRegression()\n",
    "\n",
    "sMAPE_rougher_lr = cross_val_score(lin_reg_rougher, features_train, target_train_rougher, scoring=sMAPE_scorer, cv=5)\n",
    "\n",
    "\n",
    "#для final\n",
    "lin_reg_final = LinearRegression()\n",
    "\n",
    "sMAPE_final_lr = cross_val_score(lin_reg_rougher, features_train, target_train_final, scoring=sMAPE_scorer, cv=5)\n",
    "\n",
    "\n",
    "final_sMAPE_lin_reg = final_sMAPE(sMAPE_rougher_lr, sMAPE_final_lr)\n",
    "print('Итоговая sMAPE для линейной регрессии:', final_sMAPE_lin_reg.mean())"
   ]
  },
  {
   "cell_type": "markdown",
   "metadata": {},
   "source": [
    "### Модель DecisionTreeRegressor"
   ]
  },
  {
   "cell_type": "code",
   "execution_count": 25,
   "metadata": {},
   "outputs": [
    {
     "name": "stdout",
     "output_type": "stream",
     "text": [
      "7.3167512007502\n",
      "7.120869410731115\n",
      "6.976674818994548\n",
      "6.6067383837322495\n",
      "6.824544985774355\n",
      "6.8018452928529385\n",
      "7.050589754087582\n",
      "7.320330375812311\n",
      "7.991657827056931\n",
      "8.189944419885634\n"
     ]
    },
    {
     "data": {
      "text/plain": [
       "'Лучшая выбранная метрика 6.6067383837322495, лучший max_depth 4'"
      ]
     },
     "execution_count": 25,
     "metadata": {},
     "output_type": "execute_result"
    }
   ],
   "source": [
    "#для rougher\n",
    "\n",
    "sMAPE_rougher_best_dtr = 100\n",
    "best_d_dtr_rougher = 0 \n",
    "roughet_dtr_best = None\n",
    "\n",
    "for d in range(1, 11):\n",
    "    dtr_rougher = DecisionTreeRegressor(max_depth=d, random_state=765)\n",
    "    sMAPE_rougher_dtr = cross_val_score(dtr_rougher, features_train, target_train_rougher, scoring=sMAPE_scorer, cv=5)\n",
    "    sMAPE_r_final = sMAPE_rougher_dtr.mean()\n",
    "    print(sMAPE_r_final)\n",
    "\n",
    "    if sMAPE_r_final < sMAPE_rougher_best_dtr:\n",
    "        sMAPE_rougher_best_dtr = sMAPE_r_final\n",
    "        best_d_dtr_rougher = d\n",
    "        roughet_dtr_best = dtr_rougher\n",
    "\n",
    "f'Лучшая выбранная метрика {sMAPE_rougher_best_dtr}, лучший max_depth {best_d_dtr_rougher}'"
   ]
  },
  {
   "cell_type": "code",
   "execution_count": 26,
   "metadata": {},
   "outputs": [
    {
     "data": {
      "text/plain": [
       "'Лучшая выбранная метрика 9.105204738589103, лучшиий max_depth 2'"
      ]
     },
     "execution_count": 26,
     "metadata": {},
     "output_type": "execute_result"
    }
   ],
   "source": [
    "#для final\n",
    "sMAPE_final_best_dtr = 100\n",
    "best_d_dtr_final = 0\n",
    "dtr_final_best = None\n",
    "\n",
    "for d in range(1, 11):\n",
    "    dtr_final = DecisionTreeRegressor(max_depth=d, random_state=765)\n",
    "    sMAPE_final_dtr = cross_val_score(dtr_final, features_train, target_train_final, scoring=sMAPE_scorer, cv=5)\n",
    "    sMAPE_f_dtr_final = sMAPE_final_dtr.mean()\n",
    "    \n",
    "    if sMAPE_f_dtr_final < sMAPE_final_best_dtr:\n",
    "        sMAPE_final_best_dtr = sMAPE_f_dtr_final\n",
    "        best_d_dtr_final = d\n",
    "        dtr_final_best = dtr_final\n",
    "        \n",
    "f'Лучшая выбранная метрика {sMAPE_final_best_dtr}, лучшиий max_depth {best_d_dtr_final}'"
   ]
  },
  {
   "cell_type": "code",
   "execution_count": 27,
   "metadata": {},
   "outputs": [
    {
     "name": "stdout",
     "output_type": "stream",
     "text": [
      "Итоговая sMAPE для дерева решений: 8.48058814987489\n"
     ]
    }
   ],
   "source": [
    "final_sMAPE_dec_tree = final_sMAPE(sMAPE_rougher_best_dtr, sMAPE_final_best_dtr)\n",
    "print('Итоговая sMAPE для дерева решений:', final_sMAPE_dec_tree)"
   ]
  },
  {
   "cell_type": "markdown",
   "metadata": {},
   "source": [
    "### Модель RandomForestRegressor"
   ]
  },
  {
   "cell_type": "code",
   "execution_count": 28,
   "metadata": {},
   "outputs": [
    {
     "data": {
      "text/plain": [
       "'Лучшая выбранная метрика 6.055156513483782, лучшиий max_depth 5, лучший n_estimators 10'"
      ]
     },
     "execution_count": 28,
     "metadata": {},
     "output_type": "execute_result"
    }
   ],
   "source": [
    "#для rougher\n",
    "\n",
    "sMAPE_rougher_best_rfr = 100\n",
    "n_best_r_rfr = 0\n",
    "d_best_r_rfr = 0\n",
    "rfr_rougher_best = None\n",
    "\n",
    "for n in range(10, 61, 10):\n",
    "    for d in range(1, 11):\n",
    "        rfr_rougher = RandomForestRegressor(n_estimators=n,max_depth=d, random_state=765)\n",
    "        sMAPE_rougher_rfr = cross_val_score(rfr_rougher, features_train, target_train_rougher, scoring=sMAPE_scorer, cv=5)\n",
    "        sMAPE_rougher_rfr_final = sMAPE_rougher_rfr.mean()\n",
    "\n",
    "        if sMAPE_rougher_rfr_final < sMAPE_rougher_best_rfr:\n",
    "            sMAPE_rougher_best_rfr = sMAPE_rougher_rfr_final\n",
    "            n_best_r_rfr = n\n",
    "            d_best_r_rfr = d\n",
    "            rfr_rougher_best = rfr_rougher\n",
    "\n",
    "f'Лучшая выбранная метрика {sMAPE_rougher_best_rfr}, лучшиий max_depth {d_best_r_rfr}, лучший n_estimators {n_best_r_rfr}'"
   ]
  },
  {
   "cell_type": "code",
   "execution_count": 35,
   "metadata": {},
   "outputs": [
    {
     "data": {
      "text/plain": [
       "'Лучшая выбранная метрика 8.688584247477397, лучшиий max_depth 4, лучший n_estimators 20'"
      ]
     },
     "execution_count": 35,
     "metadata": {},
     "output_type": "execute_result"
    }
   ],
   "source": [
    "#для final\n",
    "\n",
    "sMAPE_final_best_rfr = 100\n",
    "n_best_f_rfr = 0\n",
    "d_best_f_rfr = 0\n",
    "rfr_final_best = None\n",
    "\n",
    "for n in range(10, 61, 10):\n",
    "    for d in range(1, 11):\n",
    "        rfr_final = RandomForestRegressor(n_estimators=n,max_depth=d, random_state=765)\n",
    "        sMAPE_final_rfr = cross_val_score(rfr_final, features_train, target_train_final, scoring=sMAPE_scorer, cv=5)\n",
    "        sMAPE_final_rfr_final = sMAPE_final_rfr.mean()\n",
    "        \n",
    "        if sMAPE_final_rfr_final < sMAPE_final_best_rfr:\n",
    "            sMAPE_final_best_rfr = sMAPE_final_rfr_final\n",
    "            n_best_f_rfr = n\n",
    "            d_best_f_rfr = d\n",
    "            rfr_final_best = rfr_final\n",
    "        \n",
    "f'Лучшая выбранная метрика {sMAPE_final_best_rfr}, лучшиий max_depth {d_best_f_rfr}, лучший n_estimators {n_best_f_rfr}'"
   ]
  },
  {
   "cell_type": "code",
   "execution_count": 36,
   "metadata": {},
   "outputs": [
    {
     "name": "stdout",
     "output_type": "stream",
     "text": [
      "Итоговая sMAPE для случайного леса: 8.504274725769676\n"
     ]
    }
   ],
   "source": [
    "final_sMAPE_rfr = final_sMAPE(sMAPE_rougher_best_rfr, sMAPE_final_rfr_final)\n",
    "print('Итоговая sMAPE для случайного леса:', final_sMAPE_rfr)"
   ]
  },
  {
   "cell_type": "markdown",
   "metadata": {},
   "source": [
    "По результатм вычисления итоговой sMAPE - лучшая модель RandomForestRegressor."
   ]
  },
  {
   "cell_type": "markdown",
   "metadata": {},
   "source": [
    "## Тестирование и проверка на адекатность."
   ]
  },
  {
   "cell_type": "code",
   "execution_count": 41,
   "metadata": {},
   "outputs": [
    {
     "data": {
      "text/plain": [
       "'Итоговая sMAPE для случайного леса на тестовой выборке: 7.837947872904433'"
      ]
     },
     "execution_count": 41,
     "metadata": {},
     "output_type": "execute_result"
    }
   ],
   "source": [
    "features_test = gr_test.drop(['rougher.output.recovery', 'final.output.recovery'], axis=1)\n",
    "target_test_rougher = gr_test['rougher.output.recovery']\n",
    "target_test_final = gr_test['final.output.recovery']\n",
    "\n",
    "#для rougher\n",
    "\n",
    "model_rougher = RandomForestRegressor(max_depth=d_best_r_rfr, n_estimators=n_best_r_rfr)\n",
    "model_rougher.fit(features_train, target_train_rougher)\n",
    "\n",
    "test_predict_rougher = model_rougher.predict(features_test)\n",
    "sMAPE_rougher = sMAPE(target_test_rougher, test_predict_rougher)\n",
    "\n",
    "#для final\n",
    "\n",
    "model_final = RandomForestRegressor(max_depth=d_best_f_rfr, n_estimators=n_best_f_rfr)\n",
    "model_final.fit(features_train, target_train_final)\n",
    "\n",
    "test_predict_final = model_final.predict(features_test)\n",
    "sMAPE_final = sMAPE(target_test_final, test_predict_final)\n",
    "\n",
    "final_sMAPE_test = final_sMAPE(sMAPE_rougher, sMAPE_final)\n",
    "\n",
    "f'Итоговая sMAPE для случайного леса на тестовой выборке: {final_sMAPE_test}' "
   ]
  },
  {
   "cell_type": "code",
   "execution_count": 42,
   "metadata": {},
   "outputs": [
    {
     "data": {
      "text/plain": [
       "'Итоговая sMAPE константной модели: 9.223908398047978'"
      ]
     },
     "execution_count": 42,
     "metadata": {},
     "output_type": "execute_result"
    }
   ],
   "source": [
    "dummy_model_rougher = DummyRegressor(strategy=\"mean\")\n",
    "dummy_model_final = DummyRegressor(strategy=\"mean\")\n",
    "\n",
    "dummy_model_rougher.fit(features_test, target_test_rougher)\n",
    "dummy_model_final.fit(features_test, target_test_final)\n",
    "\n",
    "test_predict_rougher = dummy_model_rougher.predict(features_test)\n",
    "test_predict_final = dummy_model_final.predict(features_test)\n",
    "\n",
    "sMAPE_rougher = sMAPE(target_test_rougher, test_predict_rougher)\n",
    "sMAPE_final = sMAPE(test_predict_final, target_test_final)\n",
    "\n",
    "f'Итоговая sMAPE константной модели: {final_sMAPE(sMAPE_rougher, sMAPE_final)}'"
   ]
  },
  {
   "cell_type": "markdown",
   "metadata": {},
   "source": [
    "## Итоги"
   ]
  },
  {
   "attachments": {},
   "cell_type": "markdown",
   "metadata": {},
   "source": [
    "<br>- Провели преподготовку данных: заполнили пропуски, избавились от выбросов в данных о концентрации металлов.\n",
    "<br>- Проанализировали: \n",
    "<br>     - Отсутсвующие данные в тестовой выборке: значения в основном отсутвуют данные из блока [тип_параметра] - параметры продукта, но так же нет данных у 4 столбцов из того же блока, но уже расчётные характеристики. По условии задачи некоторые параметры замеряются и/или рассчитываются значительно позже.\n",
    "<br>     - Концентрации металлов на разных этапах очистки: концентрация золота с каждым этапом возрастает, как и должно быть. Концентрация серебра достигает пика после флотации, но потом уменьшается. А концентрация свинца после первой очистки почти не меняется. Также на гистограммах видно выбросы в районе нуля.\n",
    "<br>- Проверили правильность расчетов эффективности обогащения руды: все верно.\n",
    "<br>- Сравнили распределение размеров гранул на обучающей и тестовой выборка. После флотации размер гранул уменьшается. Различий hаспределения на тестовой и тренировочной выборках на разных этапах обработки не наблюдается.\n",
    "<br> - Исследовали суммарную концентрацию всех веществ: к финальному этапу суммарная концентрация веществ увеличивается. В финальном концентрате диапазон значений сужается, т.к. уменьшается процент ненужного сырья. Избавимся от аномалий в концентрация, чтобы улучшить наши метрики в будущем.\n",
    "<br>- Написали функцию рассчитывающую sMAPE и итоговую sMAPE\n",
    "<br>- На основе этих метрик кросс-валидацией нашли лучшую модель: случайный лес.\n",
    "<br>- Итоговая sMAPE на обучающей: 8.504274725769676\n",
    "<br>- Итоговая sMAPE на тестовой: 7.837947872904433\n",
    "<br>- Проверили на адекватность с помощью DummyRegressor: sMAPE константой модели выше, чем на тестовой. Значит наша модель адекватна."
   ]
  }
 ],
 "metadata": {
  "ExecuteTimeLog": [
   {
    "duration": 2221,
    "start_time": "2023-04-20T07:37:35.410Z"
   },
   {
    "duration": 191,
    "start_time": "2023-04-20T07:37:37.632Z"
   },
   {
    "duration": 0,
    "start_time": "2023-04-20T07:37:37.825Z"
   },
   {
    "duration": 0,
    "start_time": "2023-04-20T07:37:37.826Z"
   },
   {
    "duration": 0,
    "start_time": "2023-04-20T07:37:37.827Z"
   },
   {
    "duration": 0,
    "start_time": "2023-04-20T07:37:37.828Z"
   },
   {
    "duration": 0,
    "start_time": "2023-04-20T07:37:37.829Z"
   },
   {
    "duration": 0,
    "start_time": "2023-04-20T07:37:37.830Z"
   },
   {
    "duration": 0,
    "start_time": "2023-04-20T07:37:37.830Z"
   },
   {
    "duration": 0,
    "start_time": "2023-04-20T07:37:37.831Z"
   },
   {
    "duration": 0,
    "start_time": "2023-04-20T07:37:37.832Z"
   },
   {
    "duration": 0,
    "start_time": "2023-04-20T07:37:37.833Z"
   },
   {
    "duration": 0,
    "start_time": "2023-04-20T07:37:37.834Z"
   },
   {
    "duration": 0,
    "start_time": "2023-04-20T07:37:37.834Z"
   },
   {
    "duration": 0,
    "start_time": "2023-04-20T07:37:37.835Z"
   },
   {
    "duration": 0,
    "start_time": "2023-04-20T07:37:37.836Z"
   },
   {
    "duration": 0,
    "start_time": "2023-04-20T07:37:37.837Z"
   },
   {
    "duration": 0,
    "start_time": "2023-04-20T07:37:37.837Z"
   },
   {
    "duration": 0,
    "start_time": "2023-04-20T07:37:37.838Z"
   },
   {
    "duration": 0,
    "start_time": "2023-04-20T07:37:37.839Z"
   },
   {
    "duration": 0,
    "start_time": "2023-04-20T07:37:37.840Z"
   },
   {
    "duration": 0,
    "start_time": "2023-04-20T07:37:37.840Z"
   },
   {
    "duration": 0,
    "start_time": "2023-04-20T07:37:37.841Z"
   },
   {
    "duration": 0,
    "start_time": "2023-04-20T07:37:37.842Z"
   },
   {
    "duration": 1790,
    "start_time": "2023-04-20T07:41:40.660Z"
   },
   {
    "duration": 40,
    "start_time": "2023-04-20T07:41:43.243Z"
   },
   {
    "duration": 28,
    "start_time": "2023-04-20T07:41:43.603Z"
   },
   {
    "duration": 40,
    "start_time": "2023-04-20T07:41:43.770Z"
   },
   {
    "duration": 10,
    "start_time": "2023-04-20T07:41:44.890Z"
   },
   {
    "duration": 4,
    "start_time": "2023-04-20T07:41:48.036Z"
   },
   {
    "duration": 37,
    "start_time": "2023-04-20T07:42:19.677Z"
   },
   {
    "duration": 251,
    "start_time": "2023-04-20T07:42:20.380Z"
   },
   {
    "duration": 90,
    "start_time": "2023-04-20T07:42:20.763Z"
   },
   {
    "duration": 12,
    "start_time": "2023-04-20T07:42:21.371Z"
   },
   {
    "duration": 9,
    "start_time": "2023-04-20T07:42:21.995Z"
   },
   {
    "duration": 1170,
    "start_time": "2023-04-20T07:42:23.151Z"
   },
   {
    "duration": 224,
    "start_time": "2023-04-20T07:42:24.323Z"
   },
   {
    "duration": 221,
    "start_time": "2023-04-20T07:42:24.549Z"
   },
   {
    "duration": 7,
    "start_time": "2023-04-20T07:42:25.425Z"
   },
   {
    "duration": 363,
    "start_time": "2023-04-20T07:42:26.006Z"
   },
   {
    "duration": 29,
    "start_time": "2023-04-20T07:42:27.104Z"
   },
   {
    "duration": 11,
    "start_time": "2023-04-20T07:42:29.276Z"
   },
   {
    "duration": 5,
    "start_time": "2023-04-20T07:42:32.578Z"
   },
   {
    "duration": 2,
    "start_time": "2023-04-20T07:42:33.040Z"
   },
   {
    "duration": 5,
    "start_time": "2023-04-20T07:42:36.510Z"
   },
   {
    "duration": 5,
    "start_time": "2023-04-20T07:42:41.223Z"
   },
   {
    "duration": 11,
    "start_time": "2023-04-20T07:42:41.722Z"
   },
   {
    "duration": 15927,
    "start_time": "2023-04-20T07:45:25.814Z"
   },
   {
    "duration": 15352,
    "start_time": "2023-04-20T07:46:17.648Z"
   },
   {
    "duration": 14985,
    "start_time": "2023-04-20T07:47:53.726Z"
   },
   {
    "duration": 1824,
    "start_time": "2023-04-20T09:28:23.389Z"
   },
   {
    "duration": 2910,
    "start_time": "2023-04-20T09:28:53.694Z"
   },
   {
    "duration": 36,
    "start_time": "2023-04-20T09:29:15.478Z"
   },
   {
    "duration": 3,
    "start_time": "2023-04-20T11:54:29.608Z"
   },
   {
    "duration": 689,
    "start_time": "2023-04-20T11:54:29.613Z"
   },
   {
    "duration": 31,
    "start_time": "2023-04-20T11:54:30.304Z"
   },
   {
    "duration": 56,
    "start_time": "2023-04-20T11:54:30.337Z"
   },
   {
    "duration": 108,
    "start_time": "2023-04-20T11:54:30.394Z"
   },
   {
    "duration": 0,
    "start_time": "2023-04-20T11:54:30.504Z"
   },
   {
    "duration": 0,
    "start_time": "2023-04-20T11:54:30.505Z"
   },
   {
    "duration": 0,
    "start_time": "2023-04-20T11:54:30.506Z"
   },
   {
    "duration": 0,
    "start_time": "2023-04-20T11:54:30.507Z"
   },
   {
    "duration": 0,
    "start_time": "2023-04-20T11:54:30.508Z"
   },
   {
    "duration": 0,
    "start_time": "2023-04-20T11:54:30.509Z"
   },
   {
    "duration": 0,
    "start_time": "2023-04-20T11:54:30.510Z"
   },
   {
    "duration": 0,
    "start_time": "2023-04-20T11:54:30.511Z"
   },
   {
    "duration": 0,
    "start_time": "2023-04-20T11:54:30.511Z"
   },
   {
    "duration": 0,
    "start_time": "2023-04-20T11:54:30.513Z"
   },
   {
    "duration": 1,
    "start_time": "2023-04-20T11:54:30.513Z"
   },
   {
    "duration": 0,
    "start_time": "2023-04-20T11:54:30.514Z"
   },
   {
    "duration": 0,
    "start_time": "2023-04-20T11:54:30.515Z"
   },
   {
    "duration": 0,
    "start_time": "2023-04-20T11:54:30.516Z"
   },
   {
    "duration": 0,
    "start_time": "2023-04-20T11:54:30.517Z"
   },
   {
    "duration": 0,
    "start_time": "2023-04-20T11:54:30.518Z"
   },
   {
    "duration": 0,
    "start_time": "2023-04-20T11:54:30.519Z"
   },
   {
    "duration": 0,
    "start_time": "2023-04-20T11:54:30.519Z"
   },
   {
    "duration": 0,
    "start_time": "2023-04-20T11:54:30.520Z"
   },
   {
    "duration": 0,
    "start_time": "2023-04-20T11:54:30.521Z"
   },
   {
    "duration": 0,
    "start_time": "2023-04-20T11:54:30.522Z"
   },
   {
    "duration": 0,
    "start_time": "2023-04-20T11:54:30.523Z"
   },
   {
    "duration": 0,
    "start_time": "2023-04-20T11:54:30.524Z"
   },
   {
    "duration": 0,
    "start_time": "2023-04-20T11:54:30.524Z"
   },
   {
    "duration": 0,
    "start_time": "2023-04-20T11:54:30.526Z"
   },
   {
    "duration": 0,
    "start_time": "2023-04-20T11:54:30.526Z"
   },
   {
    "duration": 4,
    "start_time": "2023-04-20T11:54:46.501Z"
   },
   {
    "duration": 889,
    "start_time": "2023-04-20T11:54:46.508Z"
   },
   {
    "duration": 31,
    "start_time": "2023-04-20T11:54:47.398Z"
   },
   {
    "duration": 47,
    "start_time": "2023-04-20T11:54:47.430Z"
   },
   {
    "duration": 89,
    "start_time": "2023-04-20T11:54:47.479Z"
   },
   {
    "duration": 0,
    "start_time": "2023-04-20T11:54:47.570Z"
   },
   {
    "duration": 0,
    "start_time": "2023-04-20T11:54:47.578Z"
   },
   {
    "duration": 0,
    "start_time": "2023-04-20T11:54:47.578Z"
   },
   {
    "duration": 0,
    "start_time": "2023-04-20T11:54:47.579Z"
   },
   {
    "duration": 0,
    "start_time": "2023-04-20T11:54:47.580Z"
   },
   {
    "duration": 0,
    "start_time": "2023-04-20T11:54:47.580Z"
   },
   {
    "duration": 0,
    "start_time": "2023-04-20T11:54:47.581Z"
   },
   {
    "duration": 0,
    "start_time": "2023-04-20T11:54:47.582Z"
   },
   {
    "duration": 0,
    "start_time": "2023-04-20T11:54:47.584Z"
   },
   {
    "duration": 0,
    "start_time": "2023-04-20T11:54:47.586Z"
   },
   {
    "duration": 0,
    "start_time": "2023-04-20T11:54:47.587Z"
   },
   {
    "duration": 0,
    "start_time": "2023-04-20T11:54:47.588Z"
   },
   {
    "duration": 0,
    "start_time": "2023-04-20T11:54:47.590Z"
   },
   {
    "duration": 0,
    "start_time": "2023-04-20T11:54:47.591Z"
   },
   {
    "duration": 0,
    "start_time": "2023-04-20T11:54:47.592Z"
   },
   {
    "duration": 0,
    "start_time": "2023-04-20T11:54:47.593Z"
   },
   {
    "duration": 0,
    "start_time": "2023-04-20T11:54:47.594Z"
   },
   {
    "duration": 0,
    "start_time": "2023-04-20T11:54:47.596Z"
   },
   {
    "duration": 0,
    "start_time": "2023-04-20T11:54:47.597Z"
   },
   {
    "duration": 0,
    "start_time": "2023-04-20T11:54:47.598Z"
   },
   {
    "duration": 0,
    "start_time": "2023-04-20T11:54:47.598Z"
   },
   {
    "duration": 0,
    "start_time": "2023-04-20T11:54:47.599Z"
   },
   {
    "duration": 0,
    "start_time": "2023-04-20T11:54:47.600Z"
   },
   {
    "duration": 0,
    "start_time": "2023-04-20T11:54:47.601Z"
   },
   {
    "duration": 0,
    "start_time": "2023-04-20T11:54:47.602Z"
   },
   {
    "duration": 0,
    "start_time": "2023-04-20T11:54:47.603Z"
   },
   {
    "duration": 3,
    "start_time": "2023-04-20T11:55:00.484Z"
   },
   {
    "duration": 900,
    "start_time": "2023-04-20T11:55:03.101Z"
   },
   {
    "duration": 80,
    "start_time": "2023-04-20T11:55:17.851Z"
   },
   {
    "duration": 31,
    "start_time": "2023-04-20T11:55:32.246Z"
   },
   {
    "duration": 30,
    "start_time": "2023-04-20T11:55:53.486Z"
   },
   {
    "duration": 7,
    "start_time": "2023-04-20T11:56:01.462Z"
   },
   {
    "duration": 4,
    "start_time": "2023-04-20T11:56:07.512Z"
   },
   {
    "duration": 22,
    "start_time": "2023-04-20T11:56:11.213Z"
   },
   {
    "duration": 231,
    "start_time": "2023-04-20T11:56:13.934Z"
   },
   {
    "duration": 47,
    "start_time": "2023-04-20T11:56:17.386Z"
   },
   {
    "duration": 8,
    "start_time": "2023-04-20T11:56:23.661Z"
   },
   {
    "duration": 15,
    "start_time": "2023-04-20T11:56:26.508Z"
   },
   {
    "duration": 1014,
    "start_time": "2023-04-20T11:56:30.868Z"
   },
   {
    "duration": 196,
    "start_time": "2023-04-20T11:56:35.845Z"
   },
   {
    "duration": 194,
    "start_time": "2023-04-20T11:56:44.583Z"
   },
   {
    "duration": 5,
    "start_time": "2023-04-20T11:57:48.860Z"
   },
   {
    "duration": 252,
    "start_time": "2023-04-20T11:57:51.304Z"
   },
   {
    "duration": 30,
    "start_time": "2023-04-20T11:57:59.258Z"
   },
   {
    "duration": 7,
    "start_time": "2023-04-20T11:58:07.847Z"
   },
   {
    "duration": 3,
    "start_time": "2023-04-20T11:58:10.916Z"
   },
   {
    "duration": 3,
    "start_time": "2023-04-20T11:58:12.888Z"
   },
   {
    "duration": 6,
    "start_time": "2023-04-20T11:58:16.091Z"
   },
   {
    "duration": 5,
    "start_time": "2023-04-20T11:58:18.389Z"
   },
   {
    "duration": 4921,
    "start_time": "2023-04-20T11:58:21.874Z"
   },
   {
    "duration": 14902,
    "start_time": "2023-04-20T11:58:35.828Z"
   },
   {
    "duration": 14620,
    "start_time": "2023-04-20T11:59:58.038Z"
   },
   {
    "duration": 16225,
    "start_time": "2023-04-20T12:00:14.411Z"
   },
   {
    "duration": 15337,
    "start_time": "2023-04-20T12:00:32.452Z"
   },
   {
    "duration": 15067,
    "start_time": "2023-04-20T12:01:23.294Z"
   },
   {
    "duration": 16116,
    "start_time": "2023-04-20T12:02:10.618Z"
   },
   {
    "duration": 4,
    "start_time": "2023-04-20T12:02:59.987Z"
   },
   {
    "duration": 1836155,
    "start_time": "2023-04-20T12:11:51.351Z"
   },
   {
    "duration": 1917810,
    "start_time": "2023-04-20T12:42:27.508Z"
   },
   {
    "duration": 3,
    "start_time": "2023-04-20T13:14:25.319Z"
   },
   {
    "duration": 1348,
    "start_time": "2023-04-20T13:37:30.713Z"
   },
   {
    "duration": 789,
    "start_time": "2023-04-20T13:37:32.063Z"
   },
   {
    "duration": 48,
    "start_time": "2023-04-20T13:37:32.853Z"
   },
   {
    "duration": 33,
    "start_time": "2023-04-20T13:37:32.906Z"
   },
   {
    "duration": 65,
    "start_time": "2023-04-20T13:37:32.941Z"
   },
   {
    "duration": 13,
    "start_time": "2023-04-20T13:37:33.008Z"
   },
   {
    "duration": 100,
    "start_time": "2023-04-20T13:37:33.022Z"
   },
   {
    "duration": 45,
    "start_time": "2023-04-20T13:37:33.123Z"
   },
   {
    "duration": 258,
    "start_time": "2023-04-20T13:37:33.169Z"
   },
   {
    "duration": 77,
    "start_time": "2023-04-20T13:37:33.430Z"
   },
   {
    "duration": 10,
    "start_time": "2023-04-20T13:37:33.509Z"
   },
   {
    "duration": 18,
    "start_time": "2023-04-20T13:37:33.520Z"
   },
   {
    "duration": 1099,
    "start_time": "2023-04-20T13:37:33.540Z"
   },
   {
    "duration": 195,
    "start_time": "2023-04-20T13:37:34.641Z"
   },
   {
    "duration": 192,
    "start_time": "2023-04-20T13:37:34.837Z"
   },
   {
    "duration": 5,
    "start_time": "2023-04-20T13:37:35.031Z"
   },
   {
    "duration": 287,
    "start_time": "2023-04-20T13:37:35.037Z"
   },
   {
    "duration": 27,
    "start_time": "2023-04-20T13:37:35.326Z"
   },
   {
    "duration": 35,
    "start_time": "2023-04-20T13:37:35.355Z"
   },
   {
    "duration": 4,
    "start_time": "2023-04-20T13:37:35.401Z"
   },
   {
    "duration": 8,
    "start_time": "2023-04-20T13:37:35.406Z"
   },
   {
    "duration": 9,
    "start_time": "2023-04-20T13:37:35.415Z"
   },
   {
    "duration": 7,
    "start_time": "2023-04-20T13:37:35.425Z"
   },
   {
    "duration": 6158,
    "start_time": "2023-04-20T13:37:35.434Z"
   },
   {
    "duration": 14804,
    "start_time": "2023-04-20T13:37:41.593Z"
   },
   {
    "duration": 14997,
    "start_time": "2023-04-20T13:37:56.398Z"
   },
   {
    "duration": 5,
    "start_time": "2023-04-20T13:38:11.397Z"
   },
   {
    "duration": 1875665,
    "start_time": "2023-04-20T13:38:11.405Z"
   },
   {
    "duration": 1974323,
    "start_time": "2023-04-20T14:09:27.074Z"
   },
   {
    "duration": 4,
    "start_time": "2023-04-20T14:42:21.398Z"
   },
   {
    "duration": 30,
    "start_time": "2023-04-20T14:42:21.406Z"
   },
   {
    "duration": 171,
    "start_time": "2023-04-20T14:42:21.439Z"
   },
   {
    "duration": 10,
    "start_time": "2023-04-20T14:45:27.804Z"
   },
   {
    "duration": 0,
    "start_time": "2023-04-20T14:46:53.549Z"
   },
   {
    "duration": 0,
    "start_time": "2023-04-20T14:46:53.550Z"
   },
   {
    "duration": 0,
    "start_time": "2023-04-20T14:46:53.551Z"
   },
   {
    "duration": 0,
    "start_time": "2023-04-20T14:46:53.552Z"
   },
   {
    "duration": 2000877,
    "start_time": "2023-04-20T14:47:14.870Z"
   },
   {
    "duration": 4,
    "start_time": "2023-04-20T15:20:35.750Z"
   },
   {
    "duration": 54,
    "start_time": "2023-04-20T15:20:35.755Z"
   },
   {
    "duration": 0,
    "start_time": "2023-04-20T15:20:35.814Z"
   },
   {
    "duration": 24,
    "start_time": "2023-04-20T15:25:04.169Z"
   },
   {
    "duration": 855,
    "start_time": "2023-04-20T15:30:11.301Z"
   },
   {
    "duration": 2204,
    "start_time": "2023-04-20T15:31:03.143Z"
   },
   {
    "duration": 2237,
    "start_time": "2023-04-20T15:31:28.398Z"
   },
   {
    "duration": 11,
    "start_time": "2023-04-20T15:31:44.098Z"
   }
  ],
  "kernelspec": {
   "display_name": "Python 3 (ipykernel)",
   "language": "python",
   "name": "python3"
  },
  "language_info": {
   "codemirror_mode": {
    "name": "ipython",
    "version": 3
   },
   "file_extension": ".py",
   "mimetype": "text/x-python",
   "name": "python",
   "nbconvert_exporter": "python",
   "pygments_lexer": "ipython3",
   "version": "3.9.5"
  },
  "toc": {
   "base_numbering": 1,
   "nav_menu": {},
   "number_sections": true,
   "sideBar": true,
   "skip_h1_title": true,
   "title_cell": "Содержание",
   "title_sidebar": "Contents",
   "toc_cell": true,
   "toc_position": {
    "height": "calc(100% - 180px)",
    "left": "10px",
    "top": "150px",
    "width": "404.444px"
   },
   "toc_section_display": true,
   "toc_window_display": true
  }
 },
 "nbformat": 4,
 "nbformat_minor": 2
}
